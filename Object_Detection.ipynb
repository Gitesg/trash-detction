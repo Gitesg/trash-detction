{
  "cells": [
    {
      "cell_type": "markdown",
      "metadata": {
        "id": "2vvAObmTqglq"
      },
      "source": [
        "### Install the required packages\n",
        "\n"
      ]
    },
    {
      "cell_type": "code",
      "execution_count": null,
      "metadata": {
        "colab": {
          "base_uri": "https://localhost:8080/"
        },
        "id": "aIYiLcwo6lvA",
        "outputId": "0b650f3c-7bb9-4047-cfb7-1eea89a28fcd"
      },
      "outputs": [
        {
          "output_type": "stream",
          "name": "stdout",
          "text": [
            "Looking in indexes: https://pypi.org/simple, https://us-python.pkg.dev/colab-wheels/public/simple/\n",
            "Collecting tflite-model-maker\n",
            "  Downloading tflite_model_maker-0.4.2-py3-none-any.whl (577 kB)\n",
            "\u001b[2K     \u001b[90m━━━━━━━━━━━━━━━━━━━━━━━━━━━━━━━━━━━━━━\u001b[0m \u001b[32m577.3/577.3 kB\u001b[0m \u001b[31m10.5 MB/s\u001b[0m eta \u001b[36m0:00:00\u001b[0m\n",
            "\u001b[?25hCollecting tensorflowjs<3.19.0,>=2.4.0\n",
            "  Downloading tensorflowjs-3.18.0-py3-none-any.whl (77 kB)\n",
            "\u001b[2K     \u001b[90m━━━━━━━━━━━━━━━━━━━━━━━━━━━━━━━━━━━━━━━━\u001b[0m \u001b[32m77.5/77.5 kB\u001b[0m \u001b[31m4.2 MB/s\u001b[0m eta \u001b[36m0:00:00\u001b[0m\n",
            "\u001b[?25hRequirement already satisfied: lxml>=4.6.1 in /usr/local/lib/python3.9/dist-packages (from tflite-model-maker) (4.9.2)\n",
            "Requirement already satisfied: PyYAML>=5.1 in /usr/local/lib/python3.9/dist-packages (from tflite-model-maker) (6.0)\n",
            "Collecting tf-models-official==2.3.0\n",
            "  Downloading tf_models_official-2.3.0-py2.py3-none-any.whl (840 kB)\n",
            "\u001b[2K     \u001b[90m━━━━━━━━━━━━━━━━━━━━━━━━━━━━━━━━━━━━━━\u001b[0m \u001b[32m840.9/840.9 kB\u001b[0m \u001b[31m38.4 MB/s\u001b[0m eta \u001b[36m0:00:00\u001b[0m\n",
            "\u001b[?25hRequirement already satisfied: Cython>=0.29.13 in /usr/local/lib/python3.9/dist-packages (from tflite-model-maker) (0.29.34)\n",
            "Collecting urllib3!=1.25.0,!=1.25.1,<1.26,>=1.21.1\n",
            "  Downloading urllib3-1.25.11-py2.py3-none-any.whl (127 kB)\n",
            "\u001b[2K     \u001b[90m━━━━━━━━━━━━━━━━━━━━━━━━━━━━━━━━━━━━━━\u001b[0m \u001b[32m128.0/128.0 kB\u001b[0m \u001b[31m12.0 MB/s\u001b[0m eta \u001b[36m0:00:00\u001b[0m\n",
            "\u001b[?25hRequirement already satisfied: six>=1.12.0 in /usr/local/lib/python3.9/dist-packages (from tflite-model-maker) (1.16.0)\n",
            "Collecting fire>=0.3.1\n",
            "  Downloading fire-0.5.0.tar.gz (88 kB)\n",
            "\u001b[2K     \u001b[90m━━━━━━━━━━━━━━━━━━━━━━━━━━━━━━━━━━━━━━━━\u001b[0m \u001b[32m88.3/88.3 kB\u001b[0m \u001b[31m8.5 MB/s\u001b[0m eta \u001b[36m0:00:00\u001b[0m\n",
            "\u001b[?25h  Preparing metadata (setup.py) ... \u001b[?25l\u001b[?25hdone\n",
            "Collecting numba==0.53\n",
            "  Downloading numba-0.53.0-cp39-cp39-manylinux2014_x86_64.whl (3.4 MB)\n",
            "\u001b[2K     \u001b[90m━━━━━━━━━━━━━━━━━━━━━━━━━━━━━━━━━━━━━━━━\u001b[0m \u001b[32m3.4/3.4 MB\u001b[0m \u001b[31m86.7 MB/s\u001b[0m eta \u001b[36m0:00:00\u001b[0m\n",
            "\u001b[?25hCollecting librosa==0.8.1\n",
            "  Downloading librosa-0.8.1-py3-none-any.whl (203 kB)\n",
            "\u001b[2K     \u001b[90m━━━━━━━━━━━━━━━━━━━━━━━━━━━━━━━━━━━━━━\u001b[0m \u001b[32m203.8/203.8 kB\u001b[0m \u001b[31m25.2 MB/s\u001b[0m eta \u001b[36m0:00:00\u001b[0m\n",
            "\u001b[?25hCollecting tensorflow-addons>=0.11.2\n",
            "  Downloading tensorflow_addons-0.20.0-cp39-cp39-manylinux_2_17_x86_64.manylinux2014_x86_64.whl (591 kB)\n",
            "\u001b[2K     \u001b[90m━━━━━━━━━━━━━━━━━━━━━━━━━━━━━━━━━━━━━━\u001b[0m \u001b[32m591.0/591.0 kB\u001b[0m \u001b[31m49.6 MB/s\u001b[0m eta \u001b[36m0:00:00\u001b[0m\n",
            "\u001b[?25hRequirement already satisfied: pillow>=7.0.0 in /usr/local/lib/python3.9/dist-packages (from tflite-model-maker) (8.4.0)\n",
            "Collecting sentencepiece>=0.1.91\n",
            "  Downloading sentencepiece-0.1.98-cp39-cp39-manylinux_2_17_x86_64.manylinux2014_x86_64.whl (1.3 MB)\n",
            "\u001b[2K     \u001b[90m━━━━━━━━━━━━━━━━━━━━━━━━━━━━━━━━━━━━━━━━\u001b[0m \u001b[32m1.3/1.3 MB\u001b[0m \u001b[31m53.6 MB/s\u001b[0m eta \u001b[36m0:00:00\u001b[0m\n",
            "\u001b[?25hCollecting tensorflow-model-optimization>=0.5\n",
            "  Downloading tensorflow_model_optimization-0.7.4-py2.py3-none-any.whl (240 kB)\n",
            "\u001b[2K     \u001b[90m━━━━━━━━━━━━━━━━━━━━━━━━━━━━━━━━━━━━━━\u001b[0m \u001b[32m240.6/240.6 kB\u001b[0m \u001b[31m27.5 MB/s\u001b[0m eta \u001b[36m0:00:00\u001b[0m\n",
            "\u001b[?25hRequirement already satisfied: numpy>=1.17.3 in /usr/local/lib/python3.9/dist-packages (from tflite-model-maker) (1.22.4)\n",
            "Collecting neural-structured-learning>=1.3.1\n",
            "  Downloading neural_structured_learning-1.4.0-py2.py3-none-any.whl (128 kB)\n",
            "\u001b[2K     \u001b[90m━━━━━━━━━━━━━━━━━━━━━━━━━━━━━━━━━━━━━━\u001b[0m \u001b[32m128.6/128.6 kB\u001b[0m \u001b[31m15.8 MB/s\u001b[0m eta \u001b[36m0:00:00\u001b[0m\n",
            "\u001b[?25hRequirement already satisfied: tensorflow-datasets>=2.1.0 in /usr/local/lib/python3.9/dist-packages (from tflite-model-maker) (4.8.3)\n",
            "Collecting tflite-support>=0.4.2\n",
            "  Downloading tflite_support-0.4.3-cp39-cp39-manylinux2014_x86_64.whl (60.9 MB)\n",
            "\u001b[2K     \u001b[90m━━━━━━━━━━━━━━━━━━━━━━━━━━━━━━━━━━━━━━━━\u001b[0m \u001b[32m60.9/60.9 MB\u001b[0m \u001b[31m14.1 MB/s\u001b[0m eta \u001b[36m0:00:00\u001b[0m\n",
            "\u001b[?25hCollecting scann==1.2.6\n",
            "  Downloading scann-1.2.6-cp39-cp39-manylinux2014_x86_64.whl (10.9 MB)\n",
            "\u001b[2K     \u001b[90m━━━━━━━━━━━━━━━━━━━━━━━━━━━━━━━━━━━━━━━━\u001b[0m \u001b[32m10.9/10.9 MB\u001b[0m \u001b[31m96.6 MB/s\u001b[0m eta \u001b[36m0:00:00\u001b[0m\n",
            "\u001b[?25hRequirement already satisfied: tensorflow>=2.6.0 in /usr/local/lib/python3.9/dist-packages (from tflite-model-maker) (2.12.0)\n",
            "Collecting tensorflow-hub<0.13,>=0.7.0\n",
            "  Downloading tensorflow_hub-0.12.0-py2.py3-none-any.whl (108 kB)\n",
            "\u001b[2K     \u001b[90m━━━━━━━━━━━━━━━━━━━━━━━━━━━━━━━━━━━━━━\u001b[0m \u001b[32m108.8/108.8 kB\u001b[0m \u001b[31m14.7 MB/s\u001b[0m eta \u001b[36m0:00:00\u001b[0m\n",
            "\u001b[?25hRequirement already satisfied: absl-py>=0.10.0 in /usr/local/lib/python3.9/dist-packages (from tflite-model-maker) (1.4.0)\n",
            "Requirement already satisfied: flatbuffers>=2.0 in /usr/local/lib/python3.9/dist-packages (from tflite-model-maker) (23.3.3)\n",
            "Collecting matplotlib<3.5.0,>=3.0.3\n",
            "  Downloading matplotlib-3.4.3-cp39-cp39-manylinux1_x86_64.whl (10.3 MB)\n",
            "\u001b[2K     \u001b[90m━━━━━━━━━━━━━━━━━━━━━━━━━━━━━━━━━━━━━━━\u001b[0m \u001b[32m10.3/10.3 MB\u001b[0m \u001b[31m101.4 MB/s\u001b[0m eta \u001b[36m0:00:00\u001b[0m\n",
            "\u001b[?25hCollecting resampy>=0.2.2\n",
            "  Downloading resampy-0.4.2-py3-none-any.whl (3.1 MB)\n",
            "\u001b[2K     \u001b[90m━━━━━━━━━━━━━━━━━━━━━━━━━━━━━━━━━━━━━━━━\u001b[0m \u001b[32m3.1/3.1 MB\u001b[0m \u001b[31m74.5 MB/s\u001b[0m eta \u001b[36m0:00:00\u001b[0m\n",
            "\u001b[?25hRequirement already satisfied: audioread>=2.0.0 in /usr/local/lib/python3.9/dist-packages (from librosa==0.8.1->tflite-model-maker) (3.0.0)\n",
            "Requirement already satisfied: scikit-learn!=0.19.0,>=0.14.0 in /usr/local/lib/python3.9/dist-packages (from librosa==0.8.1->tflite-model-maker) (1.2.2)\n",
            "Requirement already satisfied: soundfile>=0.10.2 in /usr/local/lib/python3.9/dist-packages (from librosa==0.8.1->tflite-model-maker) (0.12.1)\n",
            "Requirement already satisfied: joblib>=0.14 in /usr/local/lib/python3.9/dist-packages (from librosa==0.8.1->tflite-model-maker) (1.2.0)\n",
            "Requirement already satisfied: packaging>=20.0 in /usr/local/lib/python3.9/dist-packages (from librosa==0.8.1->tflite-model-maker) (23.0)\n",
            "Requirement already satisfied: scipy>=1.0.0 in /usr/local/lib/python3.9/dist-packages (from librosa==0.8.1->tflite-model-maker) (1.10.1)\n",
            "Requirement already satisfied: decorator>=3.0.0 in /usr/local/lib/python3.9/dist-packages (from librosa==0.8.1->tflite-model-maker) (4.4.2)\n",
            "Requirement already satisfied: pooch>=1.0 in /usr/local/lib/python3.9/dist-packages (from librosa==0.8.1->tflite-model-maker) (1.6.0)\n",
            "Collecting llvmlite<0.37,>=0.36.0rc1\n",
            "  Downloading llvmlite-0.36.0-cp39-cp39-manylinux2010_x86_64.whl (25.3 MB)\n",
            "\u001b[2K     \u001b[90m━━━━━━━━━━━━━━━━━━━━━━━━━━━━━━━━━━━━━━━━\u001b[0m \u001b[32m25.3/25.3 MB\u001b[0m \u001b[31m43.0 MB/s\u001b[0m eta \u001b[36m0:00:00\u001b[0m\n",
            "\u001b[?25hRequirement already satisfied: setuptools in /usr/local/lib/python3.9/dist-packages (from numba==0.53->tflite-model-maker) (67.6.1)\n",
            "Collecting tensorflow>=2.6.0\n",
            "  Downloading tensorflow-2.8.4-cp39-cp39-manylinux2010_x86_64.whl (498.1 MB)\n",
            "\u001b[2K     \u001b[90m━━━━━━━━━━━━━━━━━━━━━━━━━━━━━━━━━━━━━━━\u001b[0m \u001b[32m498.1/498.1 MB\u001b[0m \u001b[31m3.3 MB/s\u001b[0m eta \u001b[36m0:00:00\u001b[0m\n",
            "\u001b[?25hRequirement already satisfied: psutil>=5.4.3 in /usr/local/lib/python3.9/dist-packages (from tf-models-official==2.3.0->tflite-model-maker) (5.9.4)\n",
            "Requirement already satisfied: opencv-python-headless in /usr/local/lib/python3.9/dist-packages (from tf-models-official==2.3.0->tflite-model-maker) (4.7.0.72)\n",
            "Requirement already satisfied: kaggle>=1.3.9 in /usr/local/lib/python3.9/dist-packages (from tf-models-official==2.3.0->tflite-model-maker) (1.5.13)\n",
            "Requirement already satisfied: py-cpuinfo>=3.3.0 in /usr/local/lib/python3.9/dist-packages (from tf-models-official==2.3.0->tflite-model-maker) (9.0.0)\n",
            "Requirement already satisfied: tf-slim>=1.1.0 in /usr/local/lib/python3.9/dist-packages (from tf-models-official==2.3.0->tflite-model-maker) (1.1.0)\n",
            "Requirement already satisfied: gin-config in /usr/local/lib/python3.9/dist-packages (from tf-models-official==2.3.0->tflite-model-maker) (0.5.0)\n",
            "Requirement already satisfied: pandas>=0.22.0 in /usr/local/lib/python3.9/dist-packages (from tf-models-official==2.3.0->tflite-model-maker) (1.5.3)\n",
            "Requirement already satisfied: google-cloud-bigquery>=0.31.0 in /usr/local/lib/python3.9/dist-packages (from tf-models-official==2.3.0->tflite-model-maker) (3.9.0)\n",
            "Collecting dataclasses\n",
            "  Downloading dataclasses-0.6-py3-none-any.whl (14 kB)\n",
            "Requirement already satisfied: google-api-python-client>=1.6.7 in /usr/local/lib/python3.9/dist-packages (from tf-models-official==2.3.0->tflite-model-maker) (2.84.0)\n",
            "Requirement already satisfied: termcolor in /usr/local/lib/python3.9/dist-packages (from fire>=0.3.1->tflite-model-maker) (2.2.0)\n",
            "Requirement already satisfied: python-dateutil>=2.7 in /usr/local/lib/python3.9/dist-packages (from matplotlib<3.5.0,>=3.0.3->tflite-model-maker) (2.8.2)\n",
            "Requirement already satisfied: cycler>=0.10 in /usr/local/lib/python3.9/dist-packages (from matplotlib<3.5.0,>=3.0.3->tflite-model-maker) (0.11.0)\n",
            "Requirement already satisfied: kiwisolver>=1.0.1 in /usr/local/lib/python3.9/dist-packages (from matplotlib<3.5.0,>=3.0.3->tflite-model-maker) (1.4.4)\n",
            "Requirement already satisfied: pyparsing>=2.2.1 in /usr/local/lib/python3.9/dist-packages (from matplotlib<3.5.0,>=3.0.3->tflite-model-maker) (3.0.9)\n",
            "Requirement already satisfied: attrs in /usr/local/lib/python3.9/dist-packages (from neural-structured-learning>=1.3.1->tflite-model-maker) (22.2.0)\n",
            "Requirement already satisfied: opt-einsum>=2.3.2 in /usr/local/lib/python3.9/dist-packages (from tensorflow>=2.6.0->tflite-model-maker) (3.3.0)\n",
            "Requirement already satisfied: google-pasta>=0.1.1 in /usr/local/lib/python3.9/dist-packages (from tensorflow>=2.6.0->tflite-model-maker) (0.2.0)\n",
            "Collecting keras-preprocessing>=1.1.1\n",
            "  Downloading Keras_Preprocessing-1.1.2-py2.py3-none-any.whl (42 kB)\n",
            "\u001b[2K     \u001b[90m━━━━━━━━━━━━━━━━━━━━━━━━━━━━━━━━━━━━━━━━\u001b[0m \u001b[32m42.6/42.6 kB\u001b[0m \u001b[31m4.7 MB/s\u001b[0m eta \u001b[36m0:00:00\u001b[0m\n",
            "\u001b[?25hRequirement already satisfied: gast>=0.2.1 in /usr/local/lib/python3.9/dist-packages (from tensorflow>=2.6.0->tflite-model-maker) (0.4.0)\n",
            "Requirement already satisfied: wrapt>=1.11.0 in /usr/local/lib/python3.9/dist-packages (from tensorflow>=2.6.0->tflite-model-maker) (1.14.1)\n",
            "Requirement already satisfied: tensorflow-io-gcs-filesystem>=0.23.1 in /usr/local/lib/python3.9/dist-packages (from tensorflow>=2.6.0->tflite-model-maker) (0.32.0)\n",
            "Collecting tensorflow-estimator<2.9,>=2.8\n",
            "  Downloading tensorflow_estimator-2.8.0-py2.py3-none-any.whl (462 kB)\n",
            "\u001b[2K     \u001b[90m━━━━━━━━━━━━━━━━━━━━━━━━━━━━━━━━━━━━━━\u001b[0m \u001b[32m462.3/462.3 kB\u001b[0m \u001b[31m25.7 MB/s\u001b[0m eta \u001b[36m0:00:00\u001b[0m\n",
            "\u001b[?25hCollecting keras<2.9,>=2.8.0rc0\n",
            "  Downloading keras-2.8.0-py2.py3-none-any.whl (1.4 MB)\n",
            "\u001b[2K     \u001b[90m━━━━━━━━━━━━━━━━━━━━━━━━━━━━━━━━━━━━━━━━\u001b[0m \u001b[32m1.4/1.4 MB\u001b[0m \u001b[31m61.5 MB/s\u001b[0m eta \u001b[36m0:00:00\u001b[0m\n",
            "\u001b[?25hRequirement already satisfied: grpcio<2.0,>=1.24.3 in /usr/local/lib/python3.9/dist-packages (from tensorflow>=2.6.0->tflite-model-maker) (1.53.0)\n",
            "Collecting tensorboard<2.9,>=2.8\n",
            "  Downloading tensorboard-2.8.0-py3-none-any.whl (5.8 MB)\n",
            "\u001b[2K     \u001b[90m━━━━━━━━━━━━━━━━━━━━━━━━━━━━━━━━━━━━━━━━\u001b[0m \u001b[32m5.8/5.8 MB\u001b[0m \u001b[31m71.2 MB/s\u001b[0m eta \u001b[36m0:00:00\u001b[0m\n",
            "\u001b[?25hRequirement already satisfied: h5py>=2.9.0 in /usr/local/lib/python3.9/dist-packages (from tensorflow>=2.6.0->tflite-model-maker) (3.8.0)\n",
            "Collecting protobuf<3.20,>=3.9.2\n",
            "  Downloading protobuf-3.19.6-cp39-cp39-manylinux_2_17_x86_64.manylinux2014_x86_64.whl (1.1 MB)\n",
            "\u001b[2K     \u001b[90m━━━━━━━━━━━━━━━━━━━━━━━━━━━━━━━━━━━━━━━━\u001b[0m \u001b[32m1.1/1.1 MB\u001b[0m \u001b[31m34.7 MB/s\u001b[0m eta \u001b[36m0:00:00\u001b[0m\n",
            "\u001b[?25hRequirement already satisfied: typing-extensions>=3.6.6 in /usr/local/lib/python3.9/dist-packages (from tensorflow>=2.6.0->tflite-model-maker) (4.5.0)\n",
            "Requirement already satisfied: libclang>=9.0.1 in /usr/local/lib/python3.9/dist-packages (from tensorflow>=2.6.0->tflite-model-maker) (16.0.0)\n",
            "Requirement already satisfied: astunparse>=1.6.0 in /usr/local/lib/python3.9/dist-packages (from tensorflow>=2.6.0->tflite-model-maker) (1.6.3)\n",
            "Collecting typeguard<3.0.0,>=2.7\n",
            "  Downloading typeguard-2.13.3-py3-none-any.whl (17 kB)\n",
            "Requirement already satisfied: promise in /usr/local/lib/python3.9/dist-packages (from tensorflow-datasets>=2.1.0->tflite-model-maker) (2.3)\n",
            "Requirement already satisfied: dm-tree in /usr/local/lib/python3.9/dist-packages (from tensorflow-datasets>=2.1.0->tflite-model-maker) (0.1.8)\n",
            "Requirement already satisfied: tqdm in /usr/local/lib/python3.9/dist-packages (from tensorflow-datasets>=2.1.0->tflite-model-maker) (4.65.0)\n",
            "Requirement already satisfied: toml in /usr/local/lib/python3.9/dist-packages (from tensorflow-datasets>=2.1.0->tflite-model-maker) (0.10.2)\n",
            "Requirement already satisfied: tensorflow-metadata in /usr/local/lib/python3.9/dist-packages (from tensorflow-datasets>=2.1.0->tflite-model-maker) (1.13.0)\n",
            "Requirement already satisfied: etils[enp,epath]>=0.9.0 in /usr/local/lib/python3.9/dist-packages (from tensorflow-datasets>=2.1.0->tflite-model-maker) (1.2.0)\n",
            "Requirement already satisfied: click in /usr/local/lib/python3.9/dist-packages (from tensorflow-datasets>=2.1.0->tflite-model-maker) (8.1.3)\n",
            "Requirement already satisfied: requests>=2.19.0 in /usr/local/lib/python3.9/dist-packages (from tensorflow-datasets>=2.1.0->tflite-model-maker) (2.27.1)\n",
            "Collecting numpy>=1.17.3\n",
            "  Downloading numpy-1.24.2-cp39-cp39-manylinux_2_17_x86_64.manylinux2014_x86_64.whl (17.3 MB)\n",
            "\u001b[2K     \u001b[90m━━━━━━━━━━━━━━━━━━━━━━━━━━━━━━━━━━━━━━━━\u001b[0m \u001b[32m17.3/17.3 MB\u001b[0m \u001b[31m52.1 MB/s\u001b[0m eta \u001b[36m0:00:00\u001b[0m\n",
            "\u001b[?25hCollecting packaging>=20.0\n",
            "  Downloading packaging-20.9-py2.py3-none-any.whl (40 kB)\n",
            "\u001b[2K     \u001b[90m━━━━━━━━━━━━━━━━━━━━━━━━━━━━━━━━━━━━━━━━\u001b[0m \u001b[32m40.9/40.9 kB\u001b[0m \u001b[31m4.2 MB/s\u001b[0m eta \u001b[36m0:00:00\u001b[0m\n",
            "\u001b[?25hCollecting pybind11>=2.6.0\n",
            "  Downloading pybind11-2.10.4-py3-none-any.whl (222 kB)\n",
            "\u001b[2K     \u001b[90m━━━━━━━━━━━━━━━━━━━━━━━━━━━━━━━━━━━━━━\u001b[0m \u001b[32m222.3/222.3 kB\u001b[0m \u001b[31m14.7 MB/s\u001b[0m eta \u001b[36m0:00:00\u001b[0m\n",
            "\u001b[?25hCollecting sounddevice>=0.4.4\n",
            "  Downloading sounddevice-0.4.6-py3-none-any.whl (31 kB)\n",
            "Requirement already satisfied: wheel<1.0,>=0.23.0 in /usr/local/lib/python3.9/dist-packages (from astunparse>=1.6.0->tensorflow>=2.6.0->tflite-model-maker) (0.40.0)\n",
            "Requirement already satisfied: zipp in /usr/local/lib/python3.9/dist-packages (from etils[enp,epath]>=0.9.0->tensorflow-datasets>=2.1.0->tflite-model-maker) (3.15.0)\n",
            "Requirement already satisfied: importlib_resources in /usr/local/lib/python3.9/dist-packages (from etils[enp,epath]>=0.9.0->tensorflow-datasets>=2.1.0->tflite-model-maker) (5.12.0)\n",
            "Requirement already satisfied: google-api-core!=2.0.*,!=2.1.*,!=2.2.*,!=2.3.0,<3.0.0dev,>=1.31.5 in /usr/local/lib/python3.9/dist-packages (from google-api-python-client>=1.6.7->tf-models-official==2.3.0->tflite-model-maker) (2.11.0)\n",
            "Requirement already satisfied: httplib2<1dev,>=0.15.0 in /usr/local/lib/python3.9/dist-packages (from google-api-python-client>=1.6.7->tf-models-official==2.3.0->tflite-model-maker) (0.21.0)\n",
            "Requirement already satisfied: google-auth-httplib2>=0.1.0 in /usr/local/lib/python3.9/dist-packages (from google-api-python-client>=1.6.7->tf-models-official==2.3.0->tflite-model-maker) (0.1.0)\n",
            "Requirement already satisfied: google-auth<3.0.0dev,>=1.19.0 in /usr/local/lib/python3.9/dist-packages (from google-api-python-client>=1.6.7->tf-models-official==2.3.0->tflite-model-maker) (2.17.2)\n",
            "Requirement already satisfied: uritemplate<5,>=3.0.1 in /usr/local/lib/python3.9/dist-packages (from google-api-python-client>=1.6.7->tf-models-official==2.3.0->tflite-model-maker) (4.1.1)\n",
            "Requirement already satisfied: google-resumable-media<3.0dev,>=0.6.0 in /usr/local/lib/python3.9/dist-packages (from google-cloud-bigquery>=0.31.0->tf-models-official==2.3.0->tflite-model-maker) (2.4.1)\n",
            "Requirement already satisfied: google-cloud-core<3.0.0dev,>=1.6.0 in /usr/local/lib/python3.9/dist-packages (from google-cloud-bigquery>=0.31.0->tf-models-official==2.3.0->tflite-model-maker) (2.3.2)\n",
            "Requirement already satisfied: proto-plus<2.0.0dev,>=1.15.0 in /usr/local/lib/python3.9/dist-packages (from google-cloud-bigquery>=0.31.0->tf-models-official==2.3.0->tflite-model-maker) (1.22.2)\n",
            "Requirement already satisfied: python-slugify in /usr/local/lib/python3.9/dist-packages (from kaggle>=1.3.9->tf-models-official==2.3.0->tflite-model-maker) (8.0.1)\n",
            "Requirement already satisfied: certifi in /usr/local/lib/python3.9/dist-packages (from kaggle>=1.3.9->tf-models-official==2.3.0->tflite-model-maker) (2022.12.7)\n",
            "Requirement already satisfied: pytz>=2020.1 in /usr/local/lib/python3.9/dist-packages (from pandas>=0.22.0->tf-models-official==2.3.0->tflite-model-maker) (2022.7.1)\n",
            "Requirement already satisfied: appdirs>=1.3.0 in /usr/local/lib/python3.9/dist-packages (from pooch>=1.0->librosa==0.8.1->tflite-model-maker) (1.4.4)\n",
            "Requirement already satisfied: charset-normalizer~=2.0.0 in /usr/local/lib/python3.9/dist-packages (from requests>=2.19.0->tensorflow-datasets>=2.1.0->tflite-model-maker) (2.0.12)\n",
            "Requirement already satisfied: idna<4,>=2.5 in /usr/local/lib/python3.9/dist-packages (from requests>=2.19.0->tensorflow-datasets>=2.1.0->tflite-model-maker) (3.4)\n",
            "Requirement already satisfied: threadpoolctl>=2.0.0 in /usr/local/lib/python3.9/dist-packages (from scikit-learn!=0.19.0,>=0.14.0->librosa==0.8.1->tflite-model-maker) (3.1.0)\n",
            "Requirement already satisfied: CFFI>=1.0 in /usr/local/lib/python3.9/dist-packages (from sounddevice>=0.4.4->tflite-support>=0.4.2->tflite-model-maker) (1.15.1)\n",
            "Collecting tensorboard-data-server<0.7.0,>=0.6.0\n",
            "  Downloading tensorboard_data_server-0.6.1-py3-none-manylinux2010_x86_64.whl (4.9 MB)\n",
            "\u001b[2K     \u001b[90m━━━━━━━━━━━━━━━━━━━━━━━━━━━━━━━━━━━━━━━━\u001b[0m \u001b[32m4.9/4.9 MB\u001b[0m \u001b[31m58.5 MB/s\u001b[0m eta \u001b[36m0:00:00\u001b[0m\n",
            "\u001b[?25hCollecting google-auth-oauthlib<0.5,>=0.4.1\n",
            "  Downloading google_auth_oauthlib-0.4.6-py2.py3-none-any.whl (18 kB)\n",
            "Requirement already satisfied: markdown>=2.6.8 in /usr/local/lib/python3.9/dist-packages (from tensorboard<2.9,>=2.8->tensorflow>=2.6.0->tflite-model-maker) (3.4.3)\n",
            "Requirement already satisfied: werkzeug>=0.11.15 in /usr/local/lib/python3.9/dist-packages (from tensorboard<2.9,>=2.8->tensorflow>=2.6.0->tflite-model-maker) (2.2.3)\n",
            "Requirement already satisfied: tensorboard-plugin-wit>=1.6.0 in /usr/local/lib/python3.9/dist-packages (from tensorboard<2.9,>=2.8->tensorflow>=2.6.0->tflite-model-maker) (1.8.1)\n",
            "Requirement already satisfied: googleapis-common-protos<2,>=1.52.0 in /usr/local/lib/python3.9/dist-packages (from tensorflow-metadata->tensorflow-datasets>=2.1.0->tflite-model-maker) (1.59.0)\n",
            "Requirement already satisfied: pycparser in /usr/local/lib/python3.9/dist-packages (from CFFI>=1.0->sounddevice>=0.4.4->tflite-support>=0.4.2->tflite-model-maker) (2.21)\n",
            "Requirement already satisfied: grpcio-status<2.0dev,>=1.33.2 in /usr/local/lib/python3.9/dist-packages (from google-api-core!=2.0.*,!=2.1.*,!=2.2.*,!=2.3.0,<3.0.0dev,>=1.31.5->google-api-python-client>=1.6.7->tf-models-official==2.3.0->tflite-model-maker) (1.48.2)\n",
            "Requirement already satisfied: rsa<5,>=3.1.4 in /usr/local/lib/python3.9/dist-packages (from google-auth<3.0.0dev,>=1.19.0->google-api-python-client>=1.6.7->tf-models-official==2.3.0->tflite-model-maker) (4.9)\n",
            "Requirement already satisfied: pyasn1-modules>=0.2.1 in /usr/local/lib/python3.9/dist-packages (from google-auth<3.0.0dev,>=1.19.0->google-api-python-client>=1.6.7->tf-models-official==2.3.0->tflite-model-maker) (0.2.8)\n",
            "Requirement already satisfied: cachetools<6.0,>=2.0.0 in /usr/local/lib/python3.9/dist-packages (from google-auth<3.0.0dev,>=1.19.0->google-api-python-client>=1.6.7->tf-models-official==2.3.0->tflite-model-maker) (5.3.0)\n",
            "Requirement already satisfied: requests-oauthlib>=0.7.0 in /usr/local/lib/python3.9/dist-packages (from google-auth-oauthlib<0.5,>=0.4.1->tensorboard<2.9,>=2.8->tensorflow>=2.6.0->tflite-model-maker) (1.3.1)\n",
            "Requirement already satisfied: google-crc32c<2.0dev,>=1.0 in /usr/local/lib/python3.9/dist-packages (from google-resumable-media<3.0dev,>=0.6.0->google-cloud-bigquery>=0.31.0->tf-models-official==2.3.0->tflite-model-maker) (1.5.0)\n",
            "Requirement already satisfied: importlib-metadata>=4.4 in /usr/local/lib/python3.9/dist-packages (from markdown>=2.6.8->tensorboard<2.9,>=2.8->tensorflow>=2.6.0->tflite-model-maker) (6.3.0)\n",
            "Requirement already satisfied: MarkupSafe>=2.1.1 in /usr/local/lib/python3.9/dist-packages (from werkzeug>=0.11.15->tensorboard<2.9,>=2.8->tensorflow>=2.6.0->tflite-model-maker) (2.1.2)\n",
            "Requirement already satisfied: text-unidecode>=1.3 in /usr/local/lib/python3.9/dist-packages (from python-slugify->kaggle>=1.3.9->tf-models-official==2.3.0->tflite-model-maker) (1.3)\n",
            "Requirement already satisfied: pyasn1<0.5.0,>=0.4.6 in /usr/local/lib/python3.9/dist-packages (from pyasn1-modules>=0.2.1->google-auth<3.0.0dev,>=1.19.0->google-api-python-client>=1.6.7->tf-models-official==2.3.0->tflite-model-maker) (0.4.8)\n",
            "Requirement already satisfied: oauthlib>=3.0.0 in /usr/local/lib/python3.9/dist-packages (from requests-oauthlib>=0.7.0->google-auth-oauthlib<0.5,>=0.4.1->tensorboard<2.9,>=2.8->tensorflow>=2.6.0->tflite-model-maker) (3.2.2)\n",
            "Building wheels for collected packages: fire\n",
            "  Building wheel for fire (setup.py) ... \u001b[?25l\u001b[?25hdone\n",
            "  Created wheel for fire: filename=fire-0.5.0-py2.py3-none-any.whl size=116952 sha256=7b7b216742b614066a069e24f6e377a88da781a3f8a385a0bde07e2a884818d1\n",
            "  Stored in directory: /root/.cache/pip/wheels/f7/f1/89/b9ea2bf8f80ec027a88fef1d354b3816b4d3d29530988972f6\n",
            "Successfully built fire\n",
            "Installing collected packages: tensorflow-estimator, sentencepiece, keras, dataclasses, urllib3, typeguard, tensorboard-data-server, pybind11, protobuf, packaging, numpy, llvmlite, fire, tensorflow-model-optimization, tensorflow-hub, tensorflow-addons, sounddevice, numba, matplotlib, keras-preprocessing, tflite-support, resampy, neural-structured-learning, librosa, google-auth-oauthlib, tensorboard, tensorflow, tf-models-official, tensorflowjs, scann, tflite-model-maker\n",
            "  Attempting uninstall: tensorflow-estimator\n",
            "    Found existing installation: tensorflow-estimator 2.12.0\n",
            "    Uninstalling tensorflow-estimator-2.12.0:\n",
            "      Successfully uninstalled tensorflow-estimator-2.12.0\n",
            "  Attempting uninstall: keras\n",
            "    Found existing installation: keras 2.12.0\n",
            "    Uninstalling keras-2.12.0:\n",
            "      Successfully uninstalled keras-2.12.0\n",
            "  Attempting uninstall: urllib3\n",
            "    Found existing installation: urllib3 1.26.15\n",
            "    Uninstalling urllib3-1.26.15:\n",
            "      Successfully uninstalled urllib3-1.26.15\n",
            "  Attempting uninstall: tensorboard-data-server\n",
            "    Found existing installation: tensorboard-data-server 0.7.0\n",
            "    Uninstalling tensorboard-data-server-0.7.0:\n",
            "      Successfully uninstalled tensorboard-data-server-0.7.0\n",
            "  Attempting uninstall: protobuf\n",
            "    Found existing installation: protobuf 3.20.3\n",
            "    Uninstalling protobuf-3.20.3:\n",
            "      Successfully uninstalled protobuf-3.20.3\n",
            "  Attempting uninstall: packaging\n",
            "    Found existing installation: packaging 23.0\n",
            "    Uninstalling packaging-23.0:\n",
            "      Successfully uninstalled packaging-23.0\n",
            "  Attempting uninstall: numpy\n",
            "    Found existing installation: numpy 1.22.4\n",
            "    Uninstalling numpy-1.22.4:\n",
            "      Successfully uninstalled numpy-1.22.4\n",
            "  Attempting uninstall: llvmlite\n",
            "    Found existing installation: llvmlite 0.39.1\n",
            "    Uninstalling llvmlite-0.39.1:\n",
            "      Successfully uninstalled llvmlite-0.39.1\n",
            "  Attempting uninstall: tensorflow-hub\n",
            "    Found existing installation: tensorflow-hub 0.13.0\n",
            "    Uninstalling tensorflow-hub-0.13.0:\n",
            "      Successfully uninstalled tensorflow-hub-0.13.0\n",
            "  Attempting uninstall: numba\n",
            "    Found existing installation: numba 0.56.4\n",
            "    Uninstalling numba-0.56.4:\n",
            "      Successfully uninstalled numba-0.56.4\n",
            "  Attempting uninstall: matplotlib\n",
            "    Found existing installation: matplotlib 3.7.1\n",
            "    Uninstalling matplotlib-3.7.1:\n",
            "      Successfully uninstalled matplotlib-3.7.1\n",
            "  Attempting uninstall: librosa\n",
            "    Found existing installation: librosa 0.10.0.post2\n",
            "    Uninstalling librosa-0.10.0.post2:\n",
            "      Successfully uninstalled librosa-0.10.0.post2\n",
            "  Attempting uninstall: google-auth-oauthlib\n",
            "    Found existing installation: google-auth-oauthlib 1.0.0\n",
            "    Uninstalling google-auth-oauthlib-1.0.0:\n",
            "      Successfully uninstalled google-auth-oauthlib-1.0.0\n",
            "  Attempting uninstall: tensorboard\n",
            "    Found existing installation: tensorboard 2.12.1\n",
            "    Uninstalling tensorboard-2.12.1:\n",
            "      Successfully uninstalled tensorboard-2.12.1\n",
            "  Attempting uninstall: tensorflow\n",
            "    Found existing installation: tensorflow 2.12.0\n",
            "    Uninstalling tensorflow-2.12.0:\n",
            "      Successfully uninstalled tensorflow-2.12.0\n",
            "\u001b[31mERROR: pip's dependency resolver does not currently take into account all the packages that are installed. This behaviour is the source of the following dependency conflicts.\n",
            "xarray 2022.12.0 requires packaging>=21.3, but you have packaging 20.9 which is incompatible.\n",
            "statsmodels 0.13.5 requires packaging>=21.3, but you have packaging 20.9 which is incompatible.\n",
            "plotnine 0.10.1 requires matplotlib>=3.5.0, but you have matplotlib 3.4.3 which is incompatible.\n",
            "mizani 0.8.1 requires matplotlib>=3.5.0, but you have matplotlib 3.4.3 which is incompatible.\u001b[0m\u001b[31m\n",
            "\u001b[0mSuccessfully installed dataclasses-0.6 fire-0.5.0 google-auth-oauthlib-0.4.6 keras-2.8.0 keras-preprocessing-1.1.2 librosa-0.8.1 llvmlite-0.36.0 matplotlib-3.4.3 neural-structured-learning-1.4.0 numba-0.53.0 numpy-1.24.2 packaging-20.9 protobuf-3.19.6 pybind11-2.10.4 resampy-0.4.2 scann-1.2.6 sentencepiece-0.1.98 sounddevice-0.4.6 tensorboard-2.8.0 tensorboard-data-server-0.6.1 tensorflow-2.8.4 tensorflow-addons-0.20.0 tensorflow-estimator-2.8.0 tensorflow-hub-0.12.0 tensorflow-model-optimization-0.7.4 tensorflowjs-3.18.0 tf-models-official-2.3.0 tflite-model-maker-0.4.2 tflite-support-0.4.3 typeguard-2.13.3 urllib3-1.25.11\n",
            "Looking in indexes: https://pypi.org/simple, https://us-python.pkg.dev/colab-wheels/public/simple/\n",
            "Requirement already satisfied: pycocotools in /usr/local/lib/python3.9/dist-packages (2.0.6)\n",
            "Requirement already satisfied: numpy in /usr/local/lib/python3.9/dist-packages (from pycocotools) (1.24.2)\n",
            "Requirement already satisfied: matplotlib>=2.1.0 in /usr/local/lib/python3.9/dist-packages (from pycocotools) (3.4.3)\n",
            "Requirement already satisfied: python-dateutil>=2.7 in /usr/local/lib/python3.9/dist-packages (from matplotlib>=2.1.0->pycocotools) (2.8.2)\n",
            "Requirement already satisfied: pyparsing>=2.2.1 in /usr/local/lib/python3.9/dist-packages (from matplotlib>=2.1.0->pycocotools) (3.0.9)\n",
            "Requirement already satisfied: pillow>=6.2.0 in /usr/local/lib/python3.9/dist-packages (from matplotlib>=2.1.0->pycocotools) (8.4.0)\n",
            "Requirement already satisfied: cycler>=0.10 in /usr/local/lib/python3.9/dist-packages (from matplotlib>=2.1.0->pycocotools) (0.11.0)\n",
            "Requirement already satisfied: kiwisolver>=1.0.1 in /usr/local/lib/python3.9/dist-packages (from matplotlib>=2.1.0->pycocotools) (1.4.4)\n",
            "Requirement already satisfied: six>=1.5 in /usr/local/lib/python3.9/dist-packages (from python-dateutil>=2.7->matplotlib>=2.1.0->pycocotools) (1.16.0)\n"
          ]
        }
      ],
      "source": [
        "!pip install  tflite-model-maker\n",
        "!pip install  pycocotools"
      ]
    },
    {
      "cell_type": "code",
      "execution_count": null,
      "metadata": {
        "colab": {
          "base_uri": "https://localhost:8080/",
          "height": 463
        },
        "id": "l_nRg0sL6h35",
        "outputId": "70819bd9-581d-4cb8-e717-6e7b910cc1b8"
      },
      "outputs": [
        {
          "output_type": "stream",
          "name": "stderr",
          "text": [
            "/usr/local/lib/python3.9/dist-packages/tensorflow_addons/utils/tfa_eol_msg.py:23: UserWarning: \n",
            "\n",
            "TensorFlow Addons (TFA) has ended development and introduction of new features.\n",
            "TFA has entered a minimal maintenance and release mode until a planned end of life in May 2024.\n",
            "Please modify downstream libraries to take dependencies from other repositories in our TensorFlow community (e.g. Keras, Keras-CV, and Keras-NLP). \n",
            "\n",
            "For more information see: https://github.com/tensorflow/addons/issues/2807 \n",
            "\n",
            "  warnings.warn(\n",
            "/usr/local/lib/python3.9/dist-packages/tensorflow_addons/utils/ensure_tf_install.py:53: UserWarning: Tensorflow Addons supports using Python ops for all Tensorflow versions above or equal to 2.10.0 and strictly below 2.13.0 (nightly versions are not supported). \n",
            " The versions of TensorFlow you are currently using is 2.8.4 and is not supported. \n",
            "Some things might work, some things might not.\n",
            "If you were to encounter a bug, do not file an issue.\n",
            "If you want to make sure you're using a tested and supported configuration, either change the TensorFlow version or the TensorFlow Addons's version. \n",
            "You can find the compatibility matrix in TensorFlow Addon's readme:\n",
            "https://github.com/tensorflow/addons\n",
            "  warnings.warn(\n"
          ]
        },
        {
          "output_type": "error",
          "ename": "RuntimeError",
          "evalue": "ignored",
          "traceback": [
            "\u001b[0;31m---------------------------------------------------------------------------\u001b[0m",
            "\u001b[0;31mRuntimeError\u001b[0m                              Traceback (most recent call last)",
            "\u001b[0;31mRuntimeError\u001b[0m: module compiled against API version 0x10 but this version of numpy is 0xf . Check the section C-API incompatibility at the Troubleshooting ImportError section at https://numpy.org/devdocs/user/troubleshooting-importerror.html#c-api-incompatibility for indications on how to solve this problem ."
          ]
        }
      ],
      "source": [
        "import numpy as np\n",
        "import os\n",
        "from tflite_model_maker.config import ExportFormat\n",
        "from tflite_model_maker import model_spec\n",
        "from tflite_model_maker import object_detector\n",
        "import tensorflow as tf\n",
        "#assert tf.__version__.startswith('2'"
      ]
    },
    {
      "cell_type": "code",
      "source": [
        "from google.colab import drive\n",
        "drive.mount('/content/drive')"
      ],
      "metadata": {
        "colab": {
          "base_uri": "https://localhost:8080/"
        },
        "id": "LYiHApHCyuXh",
        "outputId": "3be8087a-7360-43f5-ce0f-810200bce5fe"
      },
      "execution_count": null,
      "outputs": [
        {
          "output_type": "stream",
          "name": "stdout",
          "text": [
            "Mounted at /content/drive\n"
          ]
        }
      ]
    },
    {
      "cell_type": "markdown",
      "metadata": {
        "id": "s5U-A3tw6Y27"
      },
      "source": [
        "**Step 2. Load the dataset.**\n",
        "\n",
        "\n"
      ]
    },
    {
      "cell_type": "code",
      "execution_count": null,
      "metadata": {
        "colab": {
          "base_uri": "https://localhost:8080/"
        },
        "id": "56cIsfwK5YQY",
        "outputId": "0dc77772-3ab7-47da-c34a-812f6a0d5989"
      },
      "outputs": [
        {
          "output_type": "stream",
          "name": "stdout",
          "text": [
            "Drive already mounted at /content/drive; to attempt to forcibly remount, call drive.mount(\"/content/drive\", force_remount=True).\n"
          ]
        }
      ],
      "source": [
        "#save final weights to google drive\n",
        "from google.colab import drive\n",
        "drive.mount('/content/drive')"
      ]
    },
    {
      "cell_type": "code",
      "execution_count": null,
      "metadata": {
        "colab": {
          "base_uri": "https://localhost:8080/"
        },
        "id": "PrXwrqhL1Yhq",
        "outputId": "e2aecdb6-b8a9-470a-8478-947815da1b57"
      },
      "outputs": [
        {
          "output_type": "stream",
          "name": "stdout",
          "text": [
            "{1: 'bottle', 2: 'plastic', 3: 'bag', 4: 'paper'}\n",
            "Train dataset contains 354 images\n"
          ]
        }
      ],
      "source": [
        "# Paths pointing to training and validation data respectively. Images and xml annotations are in the same location\n",
        "tr_image_dir= '/content/drive/MyDrive/edix/train'\n",
        "tr_image_annotations= '/content/drive/MyDrive/edix/train'\n",
        "val_image_dir='/content/drive/MyDrive/edix/valid'\n",
        "test_image_dir= '/content/drive/MyDrive/edix/test'\n",
        "\n",
        "label_map={1:'bottle', 2:'plastic',3:'bag',4:'paper'}\n",
        "print(label_map)\n",
        "\n",
        "# Load data. Data is loaded as tfrecord and stored in the cache_dir location, for fast future use. \n",
        "train_ds = object_detector.DataLoader.from_pascal_voc(images_dir=tr_image_dir,\n",
        "                                                      annotations_dir= tr_image_dir,\n",
        "                                                      label_map=label_map\n",
        "                                                     )\n",
        "# Load validation subset.\n",
        "val_ds = object_detector.DataLoader.from_pascal_voc(images_dir=val_image_dir,\n",
        "                                                      annotations_dir= val_image_dir,\n",
        "                                                      label_map=label_map,\n",
        "                                                     )\n",
        "# Load validation subset.\n",
        "test_ds = object_detector.DataLoader.from_pascal_voc(images_dir=test_image_dir,\n",
        "                                                      annotations_dir= test_image_dir,\n",
        "                                                      label_map=label_map,\n",
        "                                                     )\n",
        "\n",
        "print(\"Train dataset contains {} images\".format(train_ds.__len__()))"
      ]
    },
    {
      "cell_type": "code",
      "execution_count": null,
      "metadata": {
        "id": "CtdZ-JDwMimd"
      },
      "outputs": [],
      "source": [
        "spec = model_spec.get('efficientdet_lite0')"
      ]
    },
    {
      "cell_type": "markdown",
      "metadata": {
        "id": "2uZkLR6N6gDR"
      },
      "source": [
        "**Step 3. Train the TensorFlow model with the training data.**\n",
        "\n",
        "* The EfficientDet-Lite0 model uses `epochs = 50` by default, which means it will go through the training dataset 50 times. You can look at the validation accuracy during training and stop early to avoid overfitting.\n",
        "* Set `batch_size = 8` here so you will see that it takes 21 steps to go through the 175 images in the training dataset.\n",
        "* Set `train_whole_model=True` to fine-tune the whole model instead of just training the head layer to improve accuracy. The trade-off is that it may take longer to train the model."
      ]
    },
    {
      "cell_type": "code",
      "execution_count": null,
      "metadata": {
        "colab": {
          "base_uri": "https://localhost:8080/"
        },
        "id": "kwlYdTcg63xy",
        "outputId": "813416a8-da6f-476b-c6e3-c2080493c6a4"
      },
      "outputs": [
        {
          "output_type": "stream",
          "name": "stderr",
          "text": [
            "WARNING:tensorflow:Label map is not the same as the previous label_map in model_spec.\n"
          ]
        },
        {
          "output_type": "stream",
          "name": "stdout",
          "text": [
            "Epoch 1/100\n",
            " 6/44 [===>..........................] - ETA: 10s - det_loss: 1.8153 - cls_loss: 1.1707 - box_loss: 0.0129 - reg_l2_loss: 0.0633 - loss: 1.8786 - learning_rate: 0.0081 - gradient_norm: 1.3308"
          ]
        },
        {
          "output_type": "stream",
          "name": "stderr",
          "text": [
            "WARNING:tensorflow:Callback method `on_train_batch_end` is slow compared to the batch time (batch time: 0.2699s vs `on_train_batch_end` time: 0.3398s). Check your callbacks.\n"
          ]
        },
        {
          "output_type": "stream",
          "name": "stdout",
          "text": [
            "44/44 [==============================] - 52s 442ms/step - det_loss: 1.6487 - cls_loss: 1.1096 - box_loss: 0.0108 - reg_l2_loss: 0.0633 - loss: 1.7120 - learning_rate: 0.0090 - gradient_norm: 1.3578 - val_det_loss: 1.4939 - val_cls_loss: 1.0233 - val_box_loss: 0.0094 - val_reg_l2_loss: 0.0633 - val_loss: 1.5572\n",
            "Epoch 2/100\n",
            "44/44 [==============================] - 17s 383ms/step - det_loss: 1.1592 - cls_loss: 0.7959 - box_loss: 0.0073 - reg_l2_loss: 0.0634 - loss: 1.2226 - learning_rate: 0.0100 - gradient_norm: 2.1655 - val_det_loss: 1.3685 - val_cls_loss: 0.9697 - val_box_loss: 0.0080 - val_reg_l2_loss: 0.0634 - val_loss: 1.4319\n",
            "Epoch 3/100\n",
            "44/44 [==============================] - 18s 418ms/step - det_loss: 0.8540 - cls_loss: 0.5669 - box_loss: 0.0057 - reg_l2_loss: 0.0634 - loss: 0.9174 - learning_rate: 0.0100 - gradient_norm: 2.3797 - val_det_loss: 1.0981 - val_cls_loss: 0.7866 - val_box_loss: 0.0062 - val_reg_l2_loss: 0.0634 - val_loss: 1.1616\n",
            "Epoch 4/100\n",
            "44/44 [==============================] - 17s 379ms/step - det_loss: 0.7016 - cls_loss: 0.4633 - box_loss: 0.0048 - reg_l2_loss: 0.0635 - loss: 0.7650 - learning_rate: 0.0100 - gradient_norm: 3.2115 - val_det_loss: 0.9154 - val_cls_loss: 0.6429 - val_box_loss: 0.0055 - val_reg_l2_loss: 0.0635 - val_loss: 0.9789\n",
            "Epoch 5/100\n",
            "44/44 [==============================] - 23s 530ms/step - det_loss: 0.5983 - cls_loss: 0.3919 - box_loss: 0.0041 - reg_l2_loss: 0.0635 - loss: 0.6618 - learning_rate: 0.0099 - gradient_norm: 2.7925 - val_det_loss: 0.7514 - val_cls_loss: 0.5154 - val_box_loss: 0.0047 - val_reg_l2_loss: 0.0636 - val_loss: 0.8150\n",
            "Epoch 6/100\n",
            "44/44 [==============================] - 17s 380ms/step - det_loss: 0.5425 - cls_loss: 0.3531 - box_loss: 0.0038 - reg_l2_loss: 0.0636 - loss: 0.6061 - learning_rate: 0.0099 - gradient_norm: 2.6921 - val_det_loss: 0.6103 - val_cls_loss: 0.4109 - val_box_loss: 0.0040 - val_reg_l2_loss: 0.0636 - val_loss: 0.6739\n",
            "Epoch 7/100\n",
            "44/44 [==============================] - 17s 386ms/step - det_loss: 0.5169 - cls_loss: 0.3333 - box_loss: 0.0037 - reg_l2_loss: 0.0637 - loss: 0.5806 - learning_rate: 0.0099 - gradient_norm: 2.7780 - val_det_loss: 0.6210 - val_cls_loss: 0.4322 - val_box_loss: 0.0038 - val_reg_l2_loss: 0.0637 - val_loss: 0.6847\n",
            "Epoch 8/100\n",
            "44/44 [==============================] - 17s 382ms/step - det_loss: 0.4891 - cls_loss: 0.3112 - box_loss: 0.0036 - reg_l2_loss: 0.0637 - loss: 0.5528 - learning_rate: 0.0099 - gradient_norm: 2.7350 - val_det_loss: 0.6375 - val_cls_loss: 0.4161 - val_box_loss: 0.0044 - val_reg_l2_loss: 0.0637 - val_loss: 0.7012\n",
            "Epoch 9/100\n",
            "44/44 [==============================] - 17s 384ms/step - det_loss: 0.4744 - cls_loss: 0.2995 - box_loss: 0.0035 - reg_l2_loss: 0.0638 - loss: 0.5382 - learning_rate: 0.0098 - gradient_norm: 2.6847 - val_det_loss: 0.5677 - val_cls_loss: 0.3852 - val_box_loss: 0.0036 - val_reg_l2_loss: 0.0638 - val_loss: 0.6314\n",
            "Epoch 10/100\n",
            "44/44 [==============================] - 22s 494ms/step - det_loss: 0.4481 - cls_loss: 0.2773 - box_loss: 0.0034 - reg_l2_loss: 0.0638 - loss: 0.5118 - learning_rate: 0.0098 - gradient_norm: 2.4474 - val_det_loss: 0.6910 - val_cls_loss: 0.4764 - val_box_loss: 0.0043 - val_reg_l2_loss: 0.0638 - val_loss: 0.7548\n",
            "Epoch 11/100\n",
            "44/44 [==============================] - 16s 359ms/step - det_loss: 0.4410 - cls_loss: 0.2774 - box_loss: 0.0033 - reg_l2_loss: 0.0638 - loss: 0.5049 - learning_rate: 0.0097 - gradient_norm: 2.6207 - val_det_loss: 0.5875 - val_cls_loss: 0.3976 - val_box_loss: 0.0038 - val_reg_l2_loss: 0.0638 - val_loss: 0.6513\n",
            "Epoch 12/100\n",
            "44/44 [==============================] - 15s 349ms/step - det_loss: 0.4371 - cls_loss: 0.2719 - box_loss: 0.0033 - reg_l2_loss: 0.0639 - loss: 0.5010 - learning_rate: 0.0097 - gradient_norm: 2.4471 - val_det_loss: 0.5725 - val_cls_loss: 0.3666 - val_box_loss: 0.0041 - val_reg_l2_loss: 0.0639 - val_loss: 0.6364\n",
            "Epoch 13/100\n",
            "44/44 [==============================] - 17s 383ms/step - det_loss: 0.4269 - cls_loss: 0.2693 - box_loss: 0.0032 - reg_l2_loss: 0.0639 - loss: 0.4908 - learning_rate: 0.0096 - gradient_norm: 2.2161 - val_det_loss: 0.6379 - val_cls_loss: 0.4231 - val_box_loss: 0.0043 - val_reg_l2_loss: 0.0639 - val_loss: 0.7018\n",
            "Epoch 14/100\n",
            "44/44 [==============================] - 17s 379ms/step - det_loss: 0.4196 - cls_loss: 0.2587 - box_loss: 0.0032 - reg_l2_loss: 0.0639 - loss: 0.4836 - learning_rate: 0.0095 - gradient_norm: 2.5902 - val_det_loss: 0.6372 - val_cls_loss: 0.3956 - val_box_loss: 0.0048 - val_reg_l2_loss: 0.0639 - val_loss: 0.7012\n",
            "Epoch 15/100\n",
            "44/44 [==============================] - 21s 485ms/step - det_loss: 0.4149 - cls_loss: 0.2562 - box_loss: 0.0032 - reg_l2_loss: 0.0639 - loss: 0.4788 - learning_rate: 0.0095 - gradient_norm: 2.4560 - val_det_loss: 0.6052 - val_cls_loss: 0.3785 - val_box_loss: 0.0045 - val_reg_l2_loss: 0.0640 - val_loss: 0.6692\n",
            "Epoch 16/100\n",
            "44/44 [==============================] - 17s 384ms/step - det_loss: 0.4060 - cls_loss: 0.2512 - box_loss: 0.0031 - reg_l2_loss: 0.0640 - loss: 0.4700 - learning_rate: 0.0094 - gradient_norm: 2.4127 - val_det_loss: 0.5176 - val_cls_loss: 0.3444 - val_box_loss: 0.0035 - val_reg_l2_loss: 0.0640 - val_loss: 0.5815\n",
            "Epoch 17/100\n",
            "44/44 [==============================] - 17s 379ms/step - det_loss: 0.3983 - cls_loss: 0.2464 - box_loss: 0.0030 - reg_l2_loss: 0.0640 - loss: 0.4623 - learning_rate: 0.0093 - gradient_norm: 2.1407 - val_det_loss: 0.5809 - val_cls_loss: 0.3539 - val_box_loss: 0.0045 - val_reg_l2_loss: 0.0640 - val_loss: 0.6449\n",
            "Epoch 18/100\n",
            "44/44 [==============================] - 16s 369ms/step - det_loss: 0.3732 - cls_loss: 0.2318 - box_loss: 0.0028 - reg_l2_loss: 0.0640 - loss: 0.4372 - learning_rate: 0.0092 - gradient_norm: 2.0894 - val_det_loss: 0.6193 - val_cls_loss: 0.3880 - val_box_loss: 0.0046 - val_reg_l2_loss: 0.0640 - val_loss: 0.6833\n",
            "Epoch 19/100\n",
            "44/44 [==============================] - 16s 360ms/step - det_loss: 0.3793 - cls_loss: 0.2401 - box_loss: 0.0028 - reg_l2_loss: 0.0640 - loss: 0.4434 - learning_rate: 0.0092 - gradient_norm: 2.2161 - val_det_loss: 0.5494 - val_cls_loss: 0.3501 - val_box_loss: 0.0040 - val_reg_l2_loss: 0.0640 - val_loss: 0.6135\n",
            "Epoch 20/100\n",
            "44/44 [==============================] - 22s 513ms/step - det_loss: 0.3738 - cls_loss: 0.2337 - box_loss: 0.0028 - reg_l2_loss: 0.0640 - loss: 0.4378 - learning_rate: 0.0091 - gradient_norm: 2.1123 - val_det_loss: 0.5707 - val_cls_loss: 0.3634 - val_box_loss: 0.0041 - val_reg_l2_loss: 0.0641 - val_loss: 0.6347\n",
            "Epoch 21/100\n",
            "44/44 [==============================] - 17s 375ms/step - det_loss: 0.3709 - cls_loss: 0.2391 - box_loss: 0.0026 - reg_l2_loss: 0.0641 - loss: 0.4350 - learning_rate: 0.0090 - gradient_norm: 2.1411 - val_det_loss: 0.5532 - val_cls_loss: 0.3568 - val_box_loss: 0.0039 - val_reg_l2_loss: 0.0641 - val_loss: 0.6173\n",
            "Epoch 22/100\n",
            "44/44 [==============================] - 15s 350ms/step - det_loss: 0.3805 - cls_loss: 0.2379 - box_loss: 0.0029 - reg_l2_loss: 0.0641 - loss: 0.4445 - learning_rate: 0.0089 - gradient_norm: 2.2211 - val_det_loss: 0.5550 - val_cls_loss: 0.3776 - val_box_loss: 0.0035 - val_reg_l2_loss: 0.0641 - val_loss: 0.6191\n",
            "Epoch 23/100\n",
            "44/44 [==============================] - 17s 383ms/step - det_loss: 0.3670 - cls_loss: 0.2318 - box_loss: 0.0027 - reg_l2_loss: 0.0641 - loss: 0.4311 - learning_rate: 0.0088 - gradient_norm: 2.0165 - val_det_loss: 0.5560 - val_cls_loss: 0.3530 - val_box_loss: 0.0041 - val_reg_l2_loss: 0.0641 - val_loss: 0.6201\n",
            "Epoch 24/100\n",
            "44/44 [==============================] - 17s 380ms/step - det_loss: 0.3699 - cls_loss: 0.2323 - box_loss: 0.0028 - reg_l2_loss: 0.0641 - loss: 0.4340 - learning_rate: 0.0087 - gradient_norm: 1.9483 - val_det_loss: 0.5578 - val_cls_loss: 0.3660 - val_box_loss: 0.0038 - val_reg_l2_loss: 0.0641 - val_loss: 0.6219\n",
            "Epoch 25/100\n",
            "44/44 [==============================] - 21s 472ms/step - det_loss: 0.3622 - cls_loss: 0.2276 - box_loss: 0.0027 - reg_l2_loss: 0.0641 - loss: 0.4263 - learning_rate: 0.0086 - gradient_norm: 1.8645 - val_det_loss: 0.5082 - val_cls_loss: 0.3178 - val_box_loss: 0.0038 - val_reg_l2_loss: 0.0641 - val_loss: 0.5723\n",
            "Epoch 26/100\n",
            "44/44 [==============================] - 17s 386ms/step - det_loss: 0.3615 - cls_loss: 0.2249 - box_loss: 0.0027 - reg_l2_loss: 0.0641 - loss: 0.4256 - learning_rate: 0.0085 - gradient_norm: 1.9584 - val_det_loss: 0.5028 - val_cls_loss: 0.3301 - val_box_loss: 0.0035 - val_reg_l2_loss: 0.0641 - val_loss: 0.5669\n",
            "Epoch 27/100\n",
            "44/44 [==============================] - 17s 387ms/step - det_loss: 0.3690 - cls_loss: 0.2292 - box_loss: 0.0028 - reg_l2_loss: 0.0641 - loss: 0.4331 - learning_rate: 0.0083 - gradient_norm: 1.9740 - val_det_loss: 0.5175 - val_cls_loss: 0.3431 - val_box_loss: 0.0035 - val_reg_l2_loss: 0.0641 - val_loss: 0.5816\n",
            "Epoch 28/100\n",
            "44/44 [==============================] - 17s 391ms/step - det_loss: 0.3538 - cls_loss: 0.2217 - box_loss: 0.0026 - reg_l2_loss: 0.0641 - loss: 0.4179 - learning_rate: 0.0082 - gradient_norm: 2.0433 - val_det_loss: 0.5382 - val_cls_loss: 0.3506 - val_box_loss: 0.0038 - val_reg_l2_loss: 0.0641 - val_loss: 0.6023\n",
            "Epoch 29/100\n",
            "44/44 [==============================] - 16s 357ms/step - det_loss: 0.3535 - cls_loss: 0.2222 - box_loss: 0.0026 - reg_l2_loss: 0.0641 - loss: 0.4176 - learning_rate: 0.0081 - gradient_norm: 1.9326 - val_det_loss: 0.5702 - val_cls_loss: 0.3760 - val_box_loss: 0.0039 - val_reg_l2_loss: 0.0641 - val_loss: 0.6343\n",
            "Epoch 30/100\n",
            "44/44 [==============================] - 22s 514ms/step - det_loss: 0.3444 - cls_loss: 0.2173 - box_loss: 0.0025 - reg_l2_loss: 0.0641 - loss: 0.4085 - learning_rate: 0.0080 - gradient_norm: 1.8166 - val_det_loss: 0.5212 - val_cls_loss: 0.3403 - val_box_loss: 0.0036 - val_reg_l2_loss: 0.0641 - val_loss: 0.5853\n",
            "Epoch 31/100\n",
            "44/44 [==============================] - 16s 358ms/step - det_loss: 0.3408 - cls_loss: 0.2153 - box_loss: 0.0025 - reg_l2_loss: 0.0641 - loss: 0.4049 - learning_rate: 0.0078 - gradient_norm: 1.7651 - val_det_loss: 0.5626 - val_cls_loss: 0.3642 - val_box_loss: 0.0040 - val_reg_l2_loss: 0.0641 - val_loss: 0.6267\n",
            "Epoch 32/100\n",
            "44/44 [==============================] - 16s 360ms/step - det_loss: 0.3383 - cls_loss: 0.2121 - box_loss: 0.0025 - reg_l2_loss: 0.0641 - loss: 0.4024 - learning_rate: 0.0077 - gradient_norm: 1.8208 - val_det_loss: 0.5700 - val_cls_loss: 0.3569 - val_box_loss: 0.0043 - val_reg_l2_loss: 0.0641 - val_loss: 0.6341\n",
            "Epoch 33/100\n",
            "44/44 [==============================] - 16s 376ms/step - det_loss: 0.3390 - cls_loss: 0.2100 - box_loss: 0.0026 - reg_l2_loss: 0.0641 - loss: 0.4031 - learning_rate: 0.0076 - gradient_norm: 1.7675 - val_det_loss: 0.5518 - val_cls_loss: 0.3659 - val_box_loss: 0.0037 - val_reg_l2_loss: 0.0641 - val_loss: 0.6159\n",
            "Epoch 34/100\n",
            "44/44 [==============================] - 17s 382ms/step - det_loss: 0.3454 - cls_loss: 0.2153 - box_loss: 0.0026 - reg_l2_loss: 0.0641 - loss: 0.4095 - learning_rate: 0.0074 - gradient_norm: 1.7150 - val_det_loss: 0.5295 - val_cls_loss: 0.3494 - val_box_loss: 0.0036 - val_reg_l2_loss: 0.0641 - val_loss: 0.5936\n",
            "Epoch 35/100\n",
            "44/44 [==============================] - 21s 480ms/step - det_loss: 0.3303 - cls_loss: 0.2088 - box_loss: 0.0024 - reg_l2_loss: 0.0641 - loss: 0.3944 - learning_rate: 0.0073 - gradient_norm: 1.7322 - val_det_loss: 0.5047 - val_cls_loss: 0.3357 - val_box_loss: 0.0034 - val_reg_l2_loss: 0.0641 - val_loss: 0.5688\n",
            "Epoch 36/100\n",
            "44/44 [==============================] - 17s 381ms/step - det_loss: 0.3418 - cls_loss: 0.2153 - box_loss: 0.0025 - reg_l2_loss: 0.0641 - loss: 0.4059 - learning_rate: 0.0071 - gradient_norm: 2.0347 - val_det_loss: 0.5277 - val_cls_loss: 0.3487 - val_box_loss: 0.0036 - val_reg_l2_loss: 0.0641 - val_loss: 0.5918\n",
            "Epoch 37/100\n",
            "44/44 [==============================] - 17s 388ms/step - det_loss: 0.3348 - cls_loss: 0.2151 - box_loss: 0.0024 - reg_l2_loss: 0.0641 - loss: 0.3988 - learning_rate: 0.0070 - gradient_norm: 1.7118 - val_det_loss: 0.5189 - val_cls_loss: 0.3495 - val_box_loss: 0.0034 - val_reg_l2_loss: 0.0641 - val_loss: 0.5830\n",
            "Epoch 38/100\n",
            "44/44 [==============================] - 18s 413ms/step - det_loss: 0.3393 - cls_loss: 0.2130 - box_loss: 0.0025 - reg_l2_loss: 0.0641 - loss: 0.4034 - learning_rate: 0.0069 - gradient_norm: 1.8209 - val_det_loss: 0.5213 - val_cls_loss: 0.3459 - val_box_loss: 0.0035 - val_reg_l2_loss: 0.0641 - val_loss: 0.5854\n",
            "Epoch 39/100\n",
            "44/44 [==============================] - 16s 376ms/step - det_loss: 0.3332 - cls_loss: 0.2061 - box_loss: 0.0025 - reg_l2_loss: 0.0641 - loss: 0.3973 - learning_rate: 0.0067 - gradient_norm: 1.8941 - val_det_loss: 0.5275 - val_cls_loss: 0.3666 - val_box_loss: 0.0032 - val_reg_l2_loss: 0.0641 - val_loss: 0.5916\n",
            "Epoch 40/100\n",
            "44/44 [==============================] - 21s 485ms/step - det_loss: 0.3296 - cls_loss: 0.2106 - box_loss: 0.0024 - reg_l2_loss: 0.0641 - loss: 0.3937 - learning_rate: 0.0066 - gradient_norm: 1.7881 - val_det_loss: 0.5599 - val_cls_loss: 0.3783 - val_box_loss: 0.0036 - val_reg_l2_loss: 0.0641 - val_loss: 0.6240\n",
            "Epoch 41/100\n",
            "44/44 [==============================] - 17s 399ms/step - det_loss: 0.3387 - cls_loss: 0.2094 - box_loss: 0.0026 - reg_l2_loss: 0.0641 - loss: 0.4028 - learning_rate: 0.0064 - gradient_norm: 1.8493 - val_det_loss: 0.5625 - val_cls_loss: 0.3906 - val_box_loss: 0.0034 - val_reg_l2_loss: 0.0641 - val_loss: 0.6266\n",
            "Epoch 42/100\n",
            "44/44 [==============================] - 17s 377ms/step - det_loss: 0.3253 - cls_loss: 0.2072 - box_loss: 0.0024 - reg_l2_loss: 0.0641 - loss: 0.3894 - learning_rate: 0.0063 - gradient_norm: 1.7907 - val_det_loss: 0.5229 - val_cls_loss: 0.3529 - val_box_loss: 0.0034 - val_reg_l2_loss: 0.0641 - val_loss: 0.5869\n",
            "Epoch 43/100\n",
            "44/44 [==============================] - 16s 361ms/step - det_loss: 0.3258 - cls_loss: 0.2080 - box_loss: 0.0024 - reg_l2_loss: 0.0641 - loss: 0.3899 - learning_rate: 0.0061 - gradient_norm: 1.7822 - val_det_loss: 0.5421 - val_cls_loss: 0.3636 - val_box_loss: 0.0036 - val_reg_l2_loss: 0.0641 - val_loss: 0.6062\n",
            "Epoch 44/100\n",
            "44/44 [==============================] - 16s 367ms/step - det_loss: 0.3172 - cls_loss: 0.2036 - box_loss: 0.0023 - reg_l2_loss: 0.0641 - loss: 0.3813 - learning_rate: 0.0059 - gradient_norm: 1.7899 - val_det_loss: 0.5195 - val_cls_loss: 0.3426 - val_box_loss: 0.0035 - val_reg_l2_loss: 0.0641 - val_loss: 0.5836\n",
            "Epoch 45/100\n",
            "44/44 [==============================] - 20s 468ms/step - det_loss: 0.3206 - cls_loss: 0.2012 - box_loss: 0.0024 - reg_l2_loss: 0.0641 - loss: 0.3847 - learning_rate: 0.0058 - gradient_norm: 1.7449 - val_det_loss: 0.5294 - val_cls_loss: 0.3608 - val_box_loss: 0.0034 - val_reg_l2_loss: 0.0641 - val_loss: 0.5935\n",
            "Epoch 46/100\n",
            "44/44 [==============================] - 17s 387ms/step - det_loss: 0.3300 - cls_loss: 0.2057 - box_loss: 0.0025 - reg_l2_loss: 0.0641 - loss: 0.3940 - learning_rate: 0.0056 - gradient_norm: 1.8441 - val_det_loss: 0.5348 - val_cls_loss: 0.3674 - val_box_loss: 0.0033 - val_reg_l2_loss: 0.0641 - val_loss: 0.5988\n",
            "Epoch 47/100\n",
            "44/44 [==============================] - 18s 404ms/step - det_loss: 0.3175 - cls_loss: 0.2049 - box_loss: 0.0023 - reg_l2_loss: 0.0641 - loss: 0.3815 - learning_rate: 0.0055 - gradient_norm: 1.7709 - val_det_loss: 0.5256 - val_cls_loss: 0.3497 - val_box_loss: 0.0035 - val_reg_l2_loss: 0.0641 - val_loss: 0.5897\n",
            "Epoch 48/100\n",
            "44/44 [==============================] - 17s 387ms/step - det_loss: 0.3129 - cls_loss: 0.2039 - box_loss: 0.0022 - reg_l2_loss: 0.0641 - loss: 0.3770 - learning_rate: 0.0053 - gradient_norm: 1.8227 - val_det_loss: 0.5410 - val_cls_loss: 0.3421 - val_box_loss: 0.0040 - val_reg_l2_loss: 0.0641 - val_loss: 0.6051\n",
            "Epoch 49/100\n",
            "44/44 [==============================] - 17s 380ms/step - det_loss: 0.3209 - cls_loss: 0.2050 - box_loss: 0.0023 - reg_l2_loss: 0.0641 - loss: 0.3850 - learning_rate: 0.0052 - gradient_norm: 1.6567 - val_det_loss: 0.5635 - val_cls_loss: 0.3658 - val_box_loss: 0.0040 - val_reg_l2_loss: 0.0641 - val_loss: 0.6276\n",
            "Epoch 50/100\n",
            "44/44 [==============================] - 21s 489ms/step - det_loss: 0.3155 - cls_loss: 0.2013 - box_loss: 0.0023 - reg_l2_loss: 0.0641 - loss: 0.3795 - learning_rate: 0.0050 - gradient_norm: 1.7181 - val_det_loss: 0.5891 - val_cls_loss: 0.3894 - val_box_loss: 0.0040 - val_reg_l2_loss: 0.0641 - val_loss: 0.6531\n",
            "Epoch 51/100\n",
            "44/44 [==============================] - 16s 377ms/step - det_loss: 0.3196 - cls_loss: 0.2033 - box_loss: 0.0023 - reg_l2_loss: 0.0641 - loss: 0.3836 - learning_rate: 0.0048 - gradient_norm: 1.8533 - val_det_loss: 0.5654 - val_cls_loss: 0.3735 - val_box_loss: 0.0038 - val_reg_l2_loss: 0.0641 - val_loss: 0.6294\n",
            "Epoch 52/100\n",
            "44/44 [==============================] - 19s 425ms/step - det_loss: 0.3193 - cls_loss: 0.1996 - box_loss: 0.0024 - reg_l2_loss: 0.0640 - loss: 0.3834 - learning_rate: 0.0047 - gradient_norm: 1.7244 - val_det_loss: 0.5339 - val_cls_loss: 0.3535 - val_box_loss: 0.0036 - val_reg_l2_loss: 0.0640 - val_loss: 0.5980\n",
            "Epoch 53/100\n",
            "44/44 [==============================] - 18s 417ms/step - det_loss: 0.3056 - cls_loss: 0.1934 - box_loss: 0.0022 - reg_l2_loss: 0.0640 - loss: 0.3697 - learning_rate: 0.0045 - gradient_norm: 1.8011 - val_det_loss: 0.5503 - val_cls_loss: 0.3647 - val_box_loss: 0.0037 - val_reg_l2_loss: 0.0640 - val_loss: 0.6144\n",
            "Epoch 54/100\n",
            "44/44 [==============================] - 17s 395ms/step - det_loss: 0.3100 - cls_loss: 0.1972 - box_loss: 0.0023 - reg_l2_loss: 0.0640 - loss: 0.3740 - learning_rate: 0.0044 - gradient_norm: 1.7423 - val_det_loss: 0.5443 - val_cls_loss: 0.3615 - val_box_loss: 0.0037 - val_reg_l2_loss: 0.0640 - val_loss: 0.6083\n",
            "Epoch 55/100\n",
            "44/44 [==============================] - 21s 481ms/step - det_loss: 0.3107 - cls_loss: 0.1957 - box_loss: 0.0023 - reg_l2_loss: 0.0640 - loss: 0.3747 - learning_rate: 0.0042 - gradient_norm: 1.8211 - val_det_loss: 0.5492 - val_cls_loss: 0.3645 - val_box_loss: 0.0037 - val_reg_l2_loss: 0.0640 - val_loss: 0.6133\n",
            "Epoch 56/100\n",
            "44/44 [==============================] - 17s 384ms/step - det_loss: 0.3148 - cls_loss: 0.1999 - box_loss: 0.0023 - reg_l2_loss: 0.0640 - loss: 0.3788 - learning_rate: 0.0041 - gradient_norm: 1.6908 - val_det_loss: 0.5336 - val_cls_loss: 0.3431 - val_box_loss: 0.0038 - val_reg_l2_loss: 0.0640 - val_loss: 0.5977\n",
            "Epoch 57/100\n",
            "44/44 [==============================] - 16s 367ms/step - det_loss: 0.3123 - cls_loss: 0.2010 - box_loss: 0.0022 - reg_l2_loss: 0.0640 - loss: 0.3763 - learning_rate: 0.0039 - gradient_norm: 1.6339 - val_det_loss: 0.5330 - val_cls_loss: 0.3465 - val_box_loss: 0.0037 - val_reg_l2_loss: 0.0640 - val_loss: 0.5970\n",
            "Epoch 58/100\n",
            "44/44 [==============================] - 15s 344ms/step - det_loss: 0.3081 - cls_loss: 0.1981 - box_loss: 0.0022 - reg_l2_loss: 0.0640 - loss: 0.3721 - learning_rate: 0.0037 - gradient_norm: 1.8655 - val_det_loss: 0.5298 - val_cls_loss: 0.3470 - val_box_loss: 0.0037 - val_reg_l2_loss: 0.0640 - val_loss: 0.5939\n",
            "Epoch 59/100\n",
            "44/44 [==============================] - 17s 374ms/step - det_loss: 0.3108 - cls_loss: 0.1942 - box_loss: 0.0023 - reg_l2_loss: 0.0640 - loss: 0.3748 - learning_rate: 0.0036 - gradient_norm: 1.7767 - val_det_loss: 0.5652 - val_cls_loss: 0.3706 - val_box_loss: 0.0039 - val_reg_l2_loss: 0.0640 - val_loss: 0.6292\n",
            "Epoch 60/100\n",
            "44/44 [==============================] - 21s 487ms/step - det_loss: 0.3058 - cls_loss: 0.1971 - box_loss: 0.0022 - reg_l2_loss: 0.0640 - loss: 0.3699 - learning_rate: 0.0034 - gradient_norm: 1.6762 - val_det_loss: 0.5523 - val_cls_loss: 0.3638 - val_box_loss: 0.0038 - val_reg_l2_loss: 0.0640 - val_loss: 0.6163\n",
            "Epoch 61/100\n",
            "44/44 [==============================] - 17s 385ms/step - det_loss: 0.3120 - cls_loss: 0.1984 - box_loss: 0.0023 - reg_l2_loss: 0.0640 - loss: 0.3760 - learning_rate: 0.0033 - gradient_norm: 1.7704 - val_det_loss: 0.5581 - val_cls_loss: 0.3781 - val_box_loss: 0.0036 - val_reg_l2_loss: 0.0640 - val_loss: 0.6221\n",
            "Epoch 62/100\n",
            "44/44 [==============================] - 17s 387ms/step - det_loss: 0.3043 - cls_loss: 0.1941 - box_loss: 0.0022 - reg_l2_loss: 0.0640 - loss: 0.3683 - learning_rate: 0.0031 - gradient_norm: 1.6754 - val_det_loss: 0.5413 - val_cls_loss: 0.3620 - val_box_loss: 0.0036 - val_reg_l2_loss: 0.0640 - val_loss: 0.6053\n",
            "Epoch 63/100\n",
            "44/44 [==============================] - 17s 394ms/step - det_loss: 0.3088 - cls_loss: 0.1955 - box_loss: 0.0023 - reg_l2_loss: 0.0640 - loss: 0.3728 - learning_rate: 0.0030 - gradient_norm: 1.7607 - val_det_loss: 0.5899 - val_cls_loss: 0.3853 - val_box_loss: 0.0041 - val_reg_l2_loss: 0.0640 - val_loss: 0.6539\n",
            "Epoch 64/100\n",
            "44/44 [==============================] - 17s 379ms/step - det_loss: 0.3068 - cls_loss: 0.1945 - box_loss: 0.0022 - reg_l2_loss: 0.0640 - loss: 0.3709 - learning_rate: 0.0029 - gradient_norm: 1.6896 - val_det_loss: 0.5694 - val_cls_loss: 0.3674 - val_box_loss: 0.0040 - val_reg_l2_loss: 0.0640 - val_loss: 0.6334\n",
            "Epoch 65/100\n",
            "44/44 [==============================] - 22s 509ms/step - det_loss: 0.2970 - cls_loss: 0.1891 - box_loss: 0.0022 - reg_l2_loss: 0.0640 - loss: 0.3610 - learning_rate: 0.0027 - gradient_norm: 1.6909 - val_det_loss: 0.5489 - val_cls_loss: 0.3559 - val_box_loss: 0.0039 - val_reg_l2_loss: 0.0640 - val_loss: 0.6129\n",
            "Epoch 66/100\n",
            "44/44 [==============================] - 17s 379ms/step - det_loss: 0.3055 - cls_loss: 0.1924 - box_loss: 0.0023 - reg_l2_loss: 0.0640 - loss: 0.3695 - learning_rate: 0.0026 - gradient_norm: 1.7131 - val_det_loss: 0.5619 - val_cls_loss: 0.3692 - val_box_loss: 0.0039 - val_reg_l2_loss: 0.0640 - val_loss: 0.6259\n",
            "Epoch 67/100\n",
            "44/44 [==============================] - 18s 403ms/step - det_loss: 0.2923 - cls_loss: 0.1875 - box_loss: 0.0021 - reg_l2_loss: 0.0640 - loss: 0.3563 - learning_rate: 0.0024 - gradient_norm: 1.6747 - val_det_loss: 0.5632 - val_cls_loss: 0.3730 - val_box_loss: 0.0038 - val_reg_l2_loss: 0.0640 - val_loss: 0.6272\n",
            "Epoch 68/100\n",
            "44/44 [==============================] - 16s 361ms/step - det_loss: 0.3057 - cls_loss: 0.1938 - box_loss: 0.0022 - reg_l2_loss: 0.0640 - loss: 0.3697 - learning_rate: 0.0023 - gradient_norm: 1.6742 - val_det_loss: 0.5367 - val_cls_loss: 0.3444 - val_box_loss: 0.0038 - val_reg_l2_loss: 0.0640 - val_loss: 0.6007\n",
            "Epoch 69/100\n",
            "44/44 [==============================] - 16s 357ms/step - det_loss: 0.2907 - cls_loss: 0.1888 - box_loss: 0.0020 - reg_l2_loss: 0.0640 - loss: 0.3547 - learning_rate: 0.0022 - gradient_norm: 1.6610 - val_det_loss: 0.5293 - val_cls_loss: 0.3475 - val_box_loss: 0.0036 - val_reg_l2_loss: 0.0640 - val_loss: 0.5933\n",
            "Epoch 70/100\n",
            "44/44 [==============================] - 23s 517ms/step - det_loss: 0.2965 - cls_loss: 0.1903 - box_loss: 0.0021 - reg_l2_loss: 0.0640 - loss: 0.3605 - learning_rate: 0.0020 - gradient_norm: 1.6443 - val_det_loss: 0.5319 - val_cls_loss: 0.3457 - val_box_loss: 0.0037 - val_reg_l2_loss: 0.0640 - val_loss: 0.5958\n",
            "Epoch 71/100\n",
            "44/44 [==============================] - 15s 341ms/step - det_loss: 0.2904 - cls_loss: 0.1882 - box_loss: 0.0020 - reg_l2_loss: 0.0640 - loss: 0.3544 - learning_rate: 0.0019 - gradient_norm: 1.6245 - val_det_loss: 0.5291 - val_cls_loss: 0.3491 - val_box_loss: 0.0036 - val_reg_l2_loss: 0.0640 - val_loss: 0.5931\n",
            "Epoch 72/100\n",
            "44/44 [==============================] - 16s 361ms/step - det_loss: 0.2990 - cls_loss: 0.1895 - box_loss: 0.0022 - reg_l2_loss: 0.0640 - loss: 0.3630 - learning_rate: 0.0018 - gradient_norm: 1.6994 - val_det_loss: 0.5427 - val_cls_loss: 0.3598 - val_box_loss: 0.0037 - val_reg_l2_loss: 0.0640 - val_loss: 0.6067\n",
            "Epoch 73/100\n",
            "44/44 [==============================] - 18s 402ms/step - det_loss: 0.2912 - cls_loss: 0.1879 - box_loss: 0.0021 - reg_l2_loss: 0.0640 - loss: 0.3552 - learning_rate: 0.0017 - gradient_norm: 1.7760 - val_det_loss: 0.5394 - val_cls_loss: 0.3590 - val_box_loss: 0.0036 - val_reg_l2_loss: 0.0640 - val_loss: 0.6034\n",
            "Epoch 74/100\n",
            "44/44 [==============================] - 17s 381ms/step - det_loss: 0.2910 - cls_loss: 0.1868 - box_loss: 0.0021 - reg_l2_loss: 0.0640 - loss: 0.3550 - learning_rate: 0.0015 - gradient_norm: 1.6228 - val_det_loss: 0.5434 - val_cls_loss: 0.3603 - val_box_loss: 0.0037 - val_reg_l2_loss: 0.0640 - val_loss: 0.6074\n",
            "Epoch 75/100\n",
            "44/44 [==============================] - 20s 458ms/step - det_loss: 0.2908 - cls_loss: 0.1863 - box_loss: 0.0021 - reg_l2_loss: 0.0640 - loss: 0.3548 - learning_rate: 0.0014 - gradient_norm: 1.6975 - val_det_loss: 0.5456 - val_cls_loss: 0.3609 - val_box_loss: 0.0037 - val_reg_l2_loss: 0.0640 - val_loss: 0.6096\n",
            "Epoch 76/100\n",
            "44/44 [==============================] - 17s 383ms/step - det_loss: 0.2926 - cls_loss: 0.1862 - box_loss: 0.0021 - reg_l2_loss: 0.0640 - loss: 0.3566 - learning_rate: 0.0013 - gradient_norm: 1.6921 - val_det_loss: 0.5470 - val_cls_loss: 0.3638 - val_box_loss: 0.0037 - val_reg_l2_loss: 0.0640 - val_loss: 0.6110\n",
            "Epoch 77/100\n",
            "44/44 [==============================] - 16s 377ms/step - det_loss: 0.3012 - cls_loss: 0.1942 - box_loss: 0.0021 - reg_l2_loss: 0.0640 - loss: 0.3652 - learning_rate: 0.0012 - gradient_norm: 1.6997 - val_det_loss: 0.5318 - val_cls_loss: 0.3556 - val_box_loss: 0.0035 - val_reg_l2_loss: 0.0640 - val_loss: 0.5958\n",
            "Epoch 78/100\n",
            "44/44 [==============================] - 16s 367ms/step - det_loss: 0.2904 - cls_loss: 0.1865 - box_loss: 0.0021 - reg_l2_loss: 0.0640 - loss: 0.3544 - learning_rate: 0.0011 - gradient_norm: 1.7272 - val_det_loss: 0.5323 - val_cls_loss: 0.3544 - val_box_loss: 0.0036 - val_reg_l2_loss: 0.0640 - val_loss: 0.5963\n",
            "Epoch 79/100\n",
            "44/44 [==============================] - 16s 373ms/step - det_loss: 0.2936 - cls_loss: 0.1885 - box_loss: 0.0021 - reg_l2_loss: 0.0640 - loss: 0.3575 - learning_rate: 0.0010 - gradient_norm: 1.7903 - val_det_loss: 0.5341 - val_cls_loss: 0.3533 - val_box_loss: 0.0036 - val_reg_l2_loss: 0.0640 - val_loss: 0.5981\n",
            "Epoch 80/100\n",
            "44/44 [==============================] - 24s 546ms/step - det_loss: 0.2923 - cls_loss: 0.1860 - box_loss: 0.0021 - reg_l2_loss: 0.0640 - loss: 0.3562 - learning_rate: 9.2734e-04 - gradient_norm: 1.7707 - val_det_loss: 0.5311 - val_cls_loss: 0.3510 - val_box_loss: 0.0036 - val_reg_l2_loss: 0.0640 - val_loss: 0.5950\n",
            "Epoch 81/100\n",
            "44/44 [==============================] - 17s 375ms/step - det_loss: 0.2938 - cls_loss: 0.1882 - box_loss: 0.0021 - reg_l2_loss: 0.0640 - loss: 0.3578 - learning_rate: 8.3738e-04 - gradient_norm: 1.6494 - val_det_loss: 0.5214 - val_cls_loss: 0.3445 - val_box_loss: 0.0035 - val_reg_l2_loss: 0.0640 - val_loss: 0.5853\n",
            "Epoch 82/100\n",
            "44/44 [==============================] - 16s 352ms/step - det_loss: 0.2918 - cls_loss: 0.1868 - box_loss: 0.0021 - reg_l2_loss: 0.0640 - loss: 0.3557 - learning_rate: 7.5160e-04 - gradient_norm: 1.6226 - val_det_loss: 0.5196 - val_cls_loss: 0.3456 - val_box_loss: 0.0035 - val_reg_l2_loss: 0.0640 - val_loss: 0.5835\n",
            "Epoch 83/100\n",
            "44/44 [==============================] - 16s 373ms/step - det_loss: 0.2834 - cls_loss: 0.1824 - box_loss: 0.0020 - reg_l2_loss: 0.0640 - loss: 0.3473 - learning_rate: 6.7010e-04 - gradient_norm: 1.6596 - val_det_loss: 0.5247 - val_cls_loss: 0.3507 - val_box_loss: 0.0035 - val_reg_l2_loss: 0.0640 - val_loss: 0.5886\n",
            "Epoch 84/100\n",
            "44/44 [==============================] - 17s 386ms/step - det_loss: 0.2908 - cls_loss: 0.1848 - box_loss: 0.0021 - reg_l2_loss: 0.0640 - loss: 0.3547 - learning_rate: 5.9296e-04 - gradient_norm: 1.7407 - val_det_loss: 0.5224 - val_cls_loss: 0.3436 - val_box_loss: 0.0036 - val_reg_l2_loss: 0.0640 - val_loss: 0.5864\n",
            "Epoch 85/100\n",
            "44/44 [==============================] - 21s 484ms/step - det_loss: 0.2869 - cls_loss: 0.1838 - box_loss: 0.0021 - reg_l2_loss: 0.0640 - loss: 0.3509 - learning_rate: 5.2026e-04 - gradient_norm: 1.6902 - val_det_loss: 0.5251 - val_cls_loss: 0.3465 - val_box_loss: 0.0036 - val_reg_l2_loss: 0.0640 - val_loss: 0.5890\n",
            "Epoch 86/100\n",
            "44/44 [==============================] - 18s 402ms/step - det_loss: 0.2876 - cls_loss: 0.1881 - box_loss: 0.0020 - reg_l2_loss: 0.0640 - loss: 0.3516 - learning_rate: 4.5207e-04 - gradient_norm: 1.6474 - val_det_loss: 0.5288 - val_cls_loss: 0.3496 - val_box_loss: 0.0036 - val_reg_l2_loss: 0.0640 - val_loss: 0.5928\n",
            "Epoch 87/100\n",
            "44/44 [==============================] - 17s 382ms/step - det_loss: 0.2838 - cls_loss: 0.1835 - box_loss: 0.0020 - reg_l2_loss: 0.0640 - loss: 0.3477 - learning_rate: 3.8846e-04 - gradient_norm: 1.6223 - val_det_loss: 0.5307 - val_cls_loss: 0.3529 - val_box_loss: 0.0036 - val_reg_l2_loss: 0.0640 - val_loss: 0.5947\n",
            "Epoch 88/100\n",
            "44/44 [==============================] - 17s 379ms/step - det_loss: 0.2923 - cls_loss: 0.1875 - box_loss: 0.0021 - reg_l2_loss: 0.0639 - loss: 0.3562 - learning_rate: 3.2949e-04 - gradient_norm: 1.6460 - val_det_loss: 0.5342 - val_cls_loss: 0.3541 - val_box_loss: 0.0036 - val_reg_l2_loss: 0.0639 - val_loss: 0.5981\n",
            "Epoch 89/100\n",
            "44/44 [==============================] - 17s 383ms/step - det_loss: 0.2890 - cls_loss: 0.1851 - box_loss: 0.0021 - reg_l2_loss: 0.0639 - loss: 0.3529 - learning_rate: 2.7523e-04 - gradient_norm: 1.6450 - val_det_loss: 0.5333 - val_cls_loss: 0.3542 - val_box_loss: 0.0036 - val_reg_l2_loss: 0.0639 - val_loss: 0.5972\n",
            "Epoch 90/100\n",
            "44/44 [==============================] - 22s 503ms/step - det_loss: 0.2906 - cls_loss: 0.1859 - box_loss: 0.0021 - reg_l2_loss: 0.0639 - loss: 0.3546 - learning_rate: 2.2572e-04 - gradient_norm: 1.6985 - val_det_loss: 0.5321 - val_cls_loss: 0.3540 - val_box_loss: 0.0036 - val_reg_l2_loss: 0.0639 - val_loss: 0.5960\n",
            "Epoch 91/100\n",
            "44/44 [==============================] - 16s 376ms/step - det_loss: 0.2915 - cls_loss: 0.1894 - box_loss: 0.0020 - reg_l2_loss: 0.0639 - loss: 0.3554 - learning_rate: 1.8102e-04 - gradient_norm: 1.7353 - val_det_loss: 0.5290 - val_cls_loss: 0.3518 - val_box_loss: 0.0035 - val_reg_l2_loss: 0.0639 - val_loss: 0.5929\n",
            "Epoch 92/100\n",
            "44/44 [==============================] - 17s 382ms/step - det_loss: 0.2812 - cls_loss: 0.1814 - box_loss: 0.0020 - reg_l2_loss: 0.0639 - loss: 0.3451 - learning_rate: 1.4117e-04 - gradient_norm: 1.6775 - val_det_loss: 0.5300 - val_cls_loss: 0.3518 - val_box_loss: 0.0036 - val_reg_l2_loss: 0.0639 - val_loss: 0.5939\n",
            "Epoch 93/100\n",
            "44/44 [==============================] - 16s 353ms/step - det_loss: 0.2892 - cls_loss: 0.1872 - box_loss: 0.0020 - reg_l2_loss: 0.0639 - loss: 0.3531 - learning_rate: 1.0622e-04 - gradient_norm: 1.6663 - val_det_loss: 0.5291 - val_cls_loss: 0.3512 - val_box_loss: 0.0036 - val_reg_l2_loss: 0.0639 - val_loss: 0.5931\n",
            "Epoch 94/100\n",
            "44/44 [==============================] - 16s 362ms/step - det_loss: 0.2921 - cls_loss: 0.1893 - box_loss: 0.0021 - reg_l2_loss: 0.0639 - loss: 0.3560 - learning_rate: 7.6190e-05 - gradient_norm: 1.7077 - val_det_loss: 0.5287 - val_cls_loss: 0.3508 - val_box_loss: 0.0036 - val_reg_l2_loss: 0.0639 - val_loss: 0.5927\n",
            "Epoch 95/100\n",
            "44/44 [==============================] - 20s 463ms/step - det_loss: 0.2712 - cls_loss: 0.1769 - box_loss: 0.0019 - reg_l2_loss: 0.0639 - loss: 0.3351 - learning_rate: 5.1120e-05 - gradient_norm: 1.6159 - val_det_loss: 0.5279 - val_cls_loss: 0.3507 - val_box_loss: 0.0035 - val_reg_l2_loss: 0.0639 - val_loss: 0.5918\n",
            "Epoch 96/100\n",
            "44/44 [==============================] - 17s 384ms/step - det_loss: 0.2818 - cls_loss: 0.1815 - box_loss: 0.0020 - reg_l2_loss: 0.0639 - loss: 0.3458 - learning_rate: 3.1033e-05 - gradient_norm: 1.6025 - val_det_loss: 0.5290 - val_cls_loss: 0.3516 - val_box_loss: 0.0035 - val_reg_l2_loss: 0.0639 - val_loss: 0.5929\n",
            "Epoch 97/100\n",
            "44/44 [==============================] - 17s 384ms/step - det_loss: 0.2856 - cls_loss: 0.1871 - box_loss: 0.0020 - reg_l2_loss: 0.0639 - loss: 0.3496 - learning_rate: 1.5950e-05 - gradient_norm: 1.6445 - val_det_loss: 0.5296 - val_cls_loss: 0.3519 - val_box_loss: 0.0036 - val_reg_l2_loss: 0.0639 - val_loss: 0.5935\n",
            "Epoch 98/100\n",
            "44/44 [==============================] - 17s 386ms/step - det_loss: 0.2834 - cls_loss: 0.1808 - box_loss: 0.0021 - reg_l2_loss: 0.0639 - loss: 0.3474 - learning_rate: 5.8850e-06 - gradient_norm: 1.6808 - val_det_loss: 0.5281 - val_cls_loss: 0.3509 - val_box_loss: 0.0035 - val_reg_l2_loss: 0.0639 - val_loss: 0.5920\n",
            "Epoch 99/100\n",
            "44/44 [==============================] - 18s 402ms/step - det_loss: 0.2873 - cls_loss: 0.1857 - box_loss: 0.0020 - reg_l2_loss: 0.0639 - loss: 0.3512 - learning_rate: 8.4866e-07 - gradient_norm: 1.7353 - val_det_loss: 0.5288 - val_cls_loss: 0.3516 - val_box_loss: 0.0035 - val_reg_l2_loss: 0.0639 - val_loss: 0.5927\n",
            "Epoch 100/100\n",
            "44/44 [==============================] - 22s 497ms/step - det_loss: 0.2874 - cls_loss: 0.1843 - box_loss: 0.0021 - reg_l2_loss: 0.0639 - loss: 0.3513 - learning_rate: 8.4613e-07 - gradient_norm: 1.7748 - val_det_loss: 0.5286 - val_cls_loss: 0.3510 - val_box_loss: 0.0036 - val_reg_l2_loss: 0.0639 - val_loss: 0.5926\n"
          ]
        }
      ],
      "source": [
        "model = object_detector.create(train_ds, model_spec=spec, batch_size=8, train_whole_model=True, validation_data=val_ds,epochs = 50)"
      ]
    },
    {
      "cell_type": "markdown",
      "metadata": {
        "id": "CgCDMe0e6jlT"
      },
      "source": [
        "**Step 5.  Export as a TensorFlow Lite model.**\n",
        "\n",
        "Export the trained object detection model to the TensorFlow Lite format by specifying which folder you want to export the quantized model to. The default post-training quantization technique is full integer quantization."
      ]
    },
    {
      "cell_type": "code",
      "execution_count": null,
      "metadata": {
        "colab": {
          "base_uri": "https://localhost:8080/"
        },
        "id": "Hm_UULdW7A9T",
        "outputId": "a4cc9227-12c5-4d6e-b0aa-eafb572f8f01"
      },
      "outputs": [
        {
          "output_type": "stream",
          "name": "stderr",
          "text": [
            "WARNING:tensorflow:Skipping full serialization of Keras layer <tensorflow_examples.lite.model_maker.core.task.model_spec.object_detector_spec.ExportModel object at 0x7fecc874e340>, because it is not built.\n",
            "WARNING:absl:Found untraced functions such as restored_function_body, restored_function_body, restored_function_body, restored_function_body, restored_function_body while saving (showing 5 of 608). These functions will not be directly callable after loading.\n"
          ]
        }
      ],
      "source": [
        "model.export(export_dir='.')"
      ]
    },
    {
      "cell_type": "code",
      "execution_count": null,
      "metadata": {
        "colab": {
          "base_uri": "https://localhost:8080/",
          "height": 383
        },
        "id": "fFobSHfOELzP",
        "outputId": "d3d151f3-0bb5-4be9-b9b2-e83efe152edb"
      },
      "outputs": [
        {
          "output_type": "stream",
          "name": "stderr",
          "text": [
            "WARNING:tensorflow:Skipping full serialization of Keras layer <tensorflow_examples.lite.model_maker.core.task.model_spec.object_detector_spec.ExportModel object at 0x7fecc874e2b0>, because it is not built.\n",
            "WARNING:absl:Found untraced functions such as restored_function_body, restored_function_body, restored_function_body, restored_function_body, restored_function_body while saving (showing 5 of 608). These functions will not be directly callable after loading.\n"
          ]
        },
        {
          "output_type": "error",
          "ename": "KeyboardInterrupt",
          "evalue": "ignored",
          "traceback": [
            "\u001b[0;31m---------------------------------------------------------------------------\u001b[0m",
            "\u001b[0;31mKeyboardInterrupt\u001b[0m                         Traceback (most recent call last)",
            "\u001b[0;32m<ipython-input-11-9807d023d1ad>\u001b[0m in \u001b[0;36m<cell line: 1>\u001b[0;34m()\u001b[0m\n\u001b[0;32m----> 1\u001b[0;31m \u001b[0mmodel\u001b[0m\u001b[0;34m.\u001b[0m\u001b[0mexport\u001b[0m\u001b[0;34m(\u001b[0m\u001b[0mexport_dir\u001b[0m\u001b[0;34m=\u001b[0m\u001b[0;34m'/content/drive/MyDrive/edix'\u001b[0m\u001b[0;34m)\u001b[0m\u001b[0;34m\u001b[0m\u001b[0;34m\u001b[0m\u001b[0m\n\u001b[0m",
            "\u001b[0;32m/usr/local/lib/python3.9/dist-packages/tensorflow_examples/lite/model_maker/core/task/custom_model.py\u001b[0m in \u001b[0;36mexport\u001b[0;34m(self, export_dir, tflite_filename, label_filename, vocab_filename, saved_model_filename, tfjs_folder_name, export_format, **kwargs)\u001b[0m\n\u001b[1;32m    130\u001b[0m       \u001b[0mtflite_filepath\u001b[0m \u001b[0;34m=\u001b[0m \u001b[0mos\u001b[0m\u001b[0;34m.\u001b[0m\u001b[0mpath\u001b[0m\u001b[0;34m.\u001b[0m\u001b[0mjoin\u001b[0m\u001b[0;34m(\u001b[0m\u001b[0mexport_dir\u001b[0m\u001b[0;34m,\u001b[0m \u001b[0mtflite_filename\u001b[0m\u001b[0;34m)\u001b[0m\u001b[0;34m\u001b[0m\u001b[0;34m\u001b[0m\u001b[0m\n\u001b[1;32m    131\u001b[0m       \u001b[0mexport_tflite_kwargs\u001b[0m\u001b[0;34m,\u001b[0m \u001b[0mkwargs\u001b[0m \u001b[0;34m=\u001b[0m \u001b[0m_get_params\u001b[0m\u001b[0;34m(\u001b[0m\u001b[0mself\u001b[0m\u001b[0;34m.\u001b[0m\u001b[0m_export_tflite\u001b[0m\u001b[0;34m,\u001b[0m \u001b[0;34m**\u001b[0m\u001b[0mkwargs\u001b[0m\u001b[0;34m)\u001b[0m\u001b[0;34m\u001b[0m\u001b[0;34m\u001b[0m\u001b[0m\n\u001b[0;32m--> 132\u001b[0;31m       \u001b[0mself\u001b[0m\u001b[0;34m.\u001b[0m\u001b[0m_export_tflite\u001b[0m\u001b[0;34m(\u001b[0m\u001b[0mtflite_filepath\u001b[0m\u001b[0;34m,\u001b[0m \u001b[0;34m**\u001b[0m\u001b[0mexport_tflite_kwargs\u001b[0m\u001b[0;34m)\u001b[0m\u001b[0;34m\u001b[0m\u001b[0;34m\u001b[0m\u001b[0m\n\u001b[0m\u001b[1;32m    133\u001b[0m       tf.compat.v1.logging.info(\n\u001b[1;32m    134\u001b[0m           'TensorFlow Lite model exported successfully: %s' % tflite_filepath)\n",
            "\u001b[0;32m/usr/local/lib/python3.9/dist-packages/tensorflow_examples/lite/model_maker/core/task/object_detector.py\u001b[0m in \u001b[0;36m_export_tflite\u001b[0;34m(self, tflite_filepath, quantization_config, with_metadata, export_metadata_json_file)\u001b[0m\n\u001b[1;32m    183\u001b[0m           self.representative_data)\n\u001b[1;32m    184\u001b[0m \u001b[0;34m\u001b[0m\u001b[0m\n\u001b[0;32m--> 185\u001b[0;31m     self.model_spec.export_tflite(self.model, tflite_filepath,\n\u001b[0m\u001b[1;32m    186\u001b[0m                                   quantization_config)\n\u001b[1;32m    187\u001b[0m \u001b[0;34m\u001b[0m\u001b[0m\n",
            "\u001b[0;32m/usr/local/lib/python3.9/dist-packages/tensorflow_examples/lite/model_maker/core/task/model_spec/object_detector_spec.py\u001b[0m in \u001b[0;36mexport_tflite\u001b[0;34m(self, model, tflite_filepath, quantization_config)\u001b[0m\n\u001b[1;32m    508\u001b[0m           ]\n\u001b[1;32m    509\u001b[0m \u001b[0;34m\u001b[0m\u001b[0m\n\u001b[0;32m--> 510\u001b[0;31m       \u001b[0mtflite_model\u001b[0m \u001b[0;34m=\u001b[0m \u001b[0mconverter\u001b[0m\u001b[0;34m.\u001b[0m\u001b[0mconvert\u001b[0m\u001b[0;34m(\u001b[0m\u001b[0;34m)\u001b[0m\u001b[0;34m\u001b[0m\u001b[0;34m\u001b[0m\u001b[0m\n\u001b[0m\u001b[1;32m    511\u001b[0m \u001b[0;34m\u001b[0m\u001b[0m\n\u001b[1;32m    512\u001b[0m       \u001b[0;32mwith\u001b[0m \u001b[0mtf\u001b[0m\u001b[0;34m.\u001b[0m\u001b[0mio\u001b[0m\u001b[0;34m.\u001b[0m\u001b[0mgfile\u001b[0m\u001b[0;34m.\u001b[0m\u001b[0mGFile\u001b[0m\u001b[0;34m(\u001b[0m\u001b[0mtflite_filepath\u001b[0m\u001b[0;34m,\u001b[0m \u001b[0;34m'wb'\u001b[0m\u001b[0;34m)\u001b[0m \u001b[0;32mas\u001b[0m \u001b[0mf\u001b[0m\u001b[0;34m:\u001b[0m\u001b[0;34m\u001b[0m\u001b[0;34m\u001b[0m\u001b[0m\n",
            "\u001b[0;32m/usr/local/lib/python3.9/dist-packages/tensorflow/lite/python/lite.py\u001b[0m in \u001b[0;36mwrapper\u001b[0;34m(self, *args, **kwargs)\u001b[0m\n\u001b[1;32m    801\u001b[0m   \u001b[0;32mdef\u001b[0m \u001b[0mwrapper\u001b[0m\u001b[0;34m(\u001b[0m\u001b[0mself\u001b[0m\u001b[0;34m,\u001b[0m \u001b[0;34m*\u001b[0m\u001b[0margs\u001b[0m\u001b[0;34m,\u001b[0m \u001b[0;34m**\u001b[0m\u001b[0mkwargs\u001b[0m\u001b[0;34m)\u001b[0m\u001b[0;34m:\u001b[0m\u001b[0;34m\u001b[0m\u001b[0;34m\u001b[0m\u001b[0m\n\u001b[1;32m    802\u001b[0m     \u001b[0;31m# pylint: disable=protected-access\u001b[0m\u001b[0;34m\u001b[0m\u001b[0;34m\u001b[0m\u001b[0m\n\u001b[0;32m--> 803\u001b[0;31m     \u001b[0;32mreturn\u001b[0m \u001b[0mself\u001b[0m\u001b[0;34m.\u001b[0m\u001b[0m_convert_and_export_metrics\u001b[0m\u001b[0;34m(\u001b[0m\u001b[0mconvert_func\u001b[0m\u001b[0;34m,\u001b[0m \u001b[0;34m*\u001b[0m\u001b[0margs\u001b[0m\u001b[0;34m,\u001b[0m \u001b[0;34m**\u001b[0m\u001b[0mkwargs\u001b[0m\u001b[0;34m)\u001b[0m\u001b[0;34m\u001b[0m\u001b[0;34m\u001b[0m\u001b[0m\n\u001b[0m\u001b[1;32m    804\u001b[0m     \u001b[0;31m# pylint: enable=protected-access\u001b[0m\u001b[0;34m\u001b[0m\u001b[0;34m\u001b[0m\u001b[0m\n\u001b[1;32m    805\u001b[0m \u001b[0;34m\u001b[0m\u001b[0m\n",
            "\u001b[0;32m/usr/local/lib/python3.9/dist-packages/tensorflow/lite/python/lite.py\u001b[0m in \u001b[0;36m_convert_and_export_metrics\u001b[0;34m(self, convert_func, *args, **kwargs)\u001b[0m\n\u001b[1;32m    787\u001b[0m     \u001b[0mself\u001b[0m\u001b[0;34m.\u001b[0m\u001b[0m_save_conversion_params_metric\u001b[0m\u001b[0;34m(\u001b[0m\u001b[0;34m)\u001b[0m\u001b[0;34m\u001b[0m\u001b[0;34m\u001b[0m\u001b[0m\n\u001b[1;32m    788\u001b[0m     \u001b[0mstart_time\u001b[0m \u001b[0;34m=\u001b[0m \u001b[0mtime\u001b[0m\u001b[0;34m.\u001b[0m\u001b[0mprocess_time\u001b[0m\u001b[0;34m(\u001b[0m\u001b[0;34m)\u001b[0m\u001b[0;34m\u001b[0m\u001b[0;34m\u001b[0m\u001b[0m\n\u001b[0;32m--> 789\u001b[0;31m     \u001b[0mresult\u001b[0m \u001b[0;34m=\u001b[0m \u001b[0mconvert_func\u001b[0m\u001b[0;34m(\u001b[0m\u001b[0mself\u001b[0m\u001b[0;34m,\u001b[0m \u001b[0;34m*\u001b[0m\u001b[0margs\u001b[0m\u001b[0;34m,\u001b[0m \u001b[0;34m**\u001b[0m\u001b[0mkwargs\u001b[0m\u001b[0;34m)\u001b[0m\u001b[0;34m\u001b[0m\u001b[0;34m\u001b[0m\u001b[0m\n\u001b[0m\u001b[1;32m    790\u001b[0m     \u001b[0melapsed_time_ms\u001b[0m \u001b[0;34m=\u001b[0m \u001b[0;34m(\u001b[0m\u001b[0mtime\u001b[0m\u001b[0;34m.\u001b[0m\u001b[0mprocess_time\u001b[0m\u001b[0;34m(\u001b[0m\u001b[0;34m)\u001b[0m \u001b[0;34m-\u001b[0m \u001b[0mstart_time\u001b[0m\u001b[0;34m)\u001b[0m \u001b[0;34m*\u001b[0m \u001b[0;36m1000\u001b[0m\u001b[0;34m\u001b[0m\u001b[0;34m\u001b[0m\u001b[0m\n\u001b[1;32m    791\u001b[0m     \u001b[0;32mif\u001b[0m \u001b[0mresult\u001b[0m\u001b[0;34m:\u001b[0m\u001b[0;34m\u001b[0m\u001b[0;34m\u001b[0m\u001b[0m\n",
            "\u001b[0;32m/usr/local/lib/python3.9/dist-packages/tensorflow/lite/python/lite.py\u001b[0m in \u001b[0;36mconvert\u001b[0;34m(self)\u001b[0m\n\u001b[1;32m   1082\u001b[0m           graph_def)\n\u001b[1;32m   1083\u001b[0m \u001b[0;34m\u001b[0m\u001b[0m\n\u001b[0;32m-> 1084\u001b[0;31m     \u001b[0;32mreturn\u001b[0m \u001b[0mself\u001b[0m\u001b[0;34m.\u001b[0m\u001b[0m_convert_from_saved_model\u001b[0m\u001b[0;34m(\u001b[0m\u001b[0mgraph_def\u001b[0m\u001b[0;34m)\u001b[0m\u001b[0;34m\u001b[0m\u001b[0;34m\u001b[0m\u001b[0m\n\u001b[0m\u001b[1;32m   1085\u001b[0m \u001b[0;34m\u001b[0m\u001b[0m\n\u001b[1;32m   1086\u001b[0m \u001b[0;34m\u001b[0m\u001b[0m\n",
            "\u001b[0;32m/usr/local/lib/python3.9/dist-packages/tensorflow/lite/python/lite.py\u001b[0m in \u001b[0;36m_convert_from_saved_model\u001b[0;34m(self, graph_def)\u001b[0m\n\u001b[1;32m    966\u001b[0m \u001b[0;34m\u001b[0m\u001b[0m\n\u001b[1;32m    967\u001b[0m     \u001b[0mresult\u001b[0m \u001b[0;34m=\u001b[0m \u001b[0m_convert_saved_model\u001b[0m\u001b[0;34m(\u001b[0m\u001b[0;34m**\u001b[0m\u001b[0mconverter_kwargs\u001b[0m\u001b[0;34m)\u001b[0m\u001b[0;34m\u001b[0m\u001b[0;34m\u001b[0m\u001b[0m\n\u001b[0;32m--> 968\u001b[0;31m     return self._optimize_tflite_model(\n\u001b[0m\u001b[1;32m    969\u001b[0m         result, quant_mode, quant_io=self.experimental_new_quantizer)\n\u001b[1;32m    970\u001b[0m \u001b[0;34m\u001b[0m\u001b[0m\n",
            "\u001b[0;32m/usr/local/lib/python3.9/dist-packages/tensorflow/lite/python/convert_phase.py\u001b[0m in \u001b[0;36mwrapper\u001b[0;34m(*args, **kwargs)\u001b[0m\n\u001b[1;32m    204\u001b[0m     \u001b[0;32mdef\u001b[0m \u001b[0mwrapper\u001b[0m\u001b[0;34m(\u001b[0m\u001b[0;34m*\u001b[0m\u001b[0margs\u001b[0m\u001b[0;34m,\u001b[0m \u001b[0;34m**\u001b[0m\u001b[0mkwargs\u001b[0m\u001b[0;34m)\u001b[0m\u001b[0;34m:\u001b[0m\u001b[0;34m\u001b[0m\u001b[0;34m\u001b[0m\u001b[0m\n\u001b[1;32m    205\u001b[0m       \u001b[0;32mtry\u001b[0m\u001b[0;34m:\u001b[0m\u001b[0;34m\u001b[0m\u001b[0;34m\u001b[0m\u001b[0m\n\u001b[0;32m--> 206\u001b[0;31m         \u001b[0;32mreturn\u001b[0m \u001b[0mfunc\u001b[0m\u001b[0;34m(\u001b[0m\u001b[0;34m*\u001b[0m\u001b[0margs\u001b[0m\u001b[0;34m,\u001b[0m \u001b[0;34m**\u001b[0m\u001b[0mkwargs\u001b[0m\u001b[0;34m)\u001b[0m\u001b[0;34m\u001b[0m\u001b[0;34m\u001b[0m\u001b[0m\n\u001b[0m\u001b[1;32m    207\u001b[0m       \u001b[0;32mexcept\u001b[0m \u001b[0mConverterError\u001b[0m \u001b[0;32mas\u001b[0m \u001b[0mconverter_error\u001b[0m\u001b[0;34m:\u001b[0m\u001b[0;34m\u001b[0m\u001b[0;34m\u001b[0m\u001b[0m\n\u001b[1;32m    208\u001b[0m         \u001b[0;32mif\u001b[0m \u001b[0mconverter_error\u001b[0m\u001b[0;34m.\u001b[0m\u001b[0merrors\u001b[0m\u001b[0;34m:\u001b[0m\u001b[0;34m\u001b[0m\u001b[0;34m\u001b[0m\u001b[0m\n",
            "\u001b[0;32m/usr/local/lib/python3.9/dist-packages/tensorflow/lite/python/lite.py\u001b[0m in \u001b[0;36m_optimize_tflite_model\u001b[0;34m(self, model, quant_mode, quant_io)\u001b[0m\n\u001b[1;32m    747\u001b[0m         \u001b[0mq_activations_type\u001b[0m \u001b[0;34m=\u001b[0m \u001b[0mquant_mode\u001b[0m\u001b[0;34m.\u001b[0m\u001b[0mactivations_type\u001b[0m\u001b[0;34m(\u001b[0m\u001b[0;34m)\u001b[0m\u001b[0;34m\u001b[0m\u001b[0;34m\u001b[0m\u001b[0m\n\u001b[1;32m    748\u001b[0m         \u001b[0mq_allow_float\u001b[0m \u001b[0;34m=\u001b[0m \u001b[0mquant_mode\u001b[0m\u001b[0;34m.\u001b[0m\u001b[0mis_allow_float\u001b[0m\u001b[0;34m(\u001b[0m\u001b[0;34m)\u001b[0m\u001b[0;34m\u001b[0m\u001b[0;34m\u001b[0m\u001b[0m\n\u001b[0;32m--> 749\u001b[0;31m         model = self._quantize(\n\u001b[0m\u001b[1;32m    750\u001b[0m             model, q_in_type, q_out_type, q_activations_type, q_allow_float)\n\u001b[1;32m    751\u001b[0m \u001b[0;34m\u001b[0m\u001b[0m\n",
            "\u001b[0;32m/usr/local/lib/python3.9/dist-packages/tensorflow/lite/python/lite.py\u001b[0m in \u001b[0;36m_quantize\u001b[0;34m(self, result, input_type, output_type, activations_type, allow_float)\u001b[0m\n\u001b[1;32m    553\u001b[0m                                                 custom_op_registerers_by_func)\n\u001b[1;32m    554\u001b[0m     \u001b[0;32mif\u001b[0m \u001b[0mself\u001b[0m\u001b[0;34m.\u001b[0m\u001b[0m_experimental_calibrate_only\u001b[0m \u001b[0;32mor\u001b[0m \u001b[0mself\u001b[0m\u001b[0;34m.\u001b[0m\u001b[0mexperimental_new_quantizer\u001b[0m\u001b[0;34m:\u001b[0m\u001b[0;34m\u001b[0m\u001b[0;34m\u001b[0m\u001b[0m\n\u001b[0;32m--> 555\u001b[0;31m       calibrated = calibrate_quantize.calibrate(\n\u001b[0m\u001b[1;32m    556\u001b[0m           self.representative_dataset.input_gen)\n\u001b[1;32m    557\u001b[0m \u001b[0;34m\u001b[0m\u001b[0m\n",
            "\u001b[0;32m/usr/local/lib/python3.9/dist-packages/tensorflow/lite/python/convert_phase.py\u001b[0m in \u001b[0;36mwrapper\u001b[0;34m(*args, **kwargs)\u001b[0m\n\u001b[1;32m    204\u001b[0m     \u001b[0;32mdef\u001b[0m \u001b[0mwrapper\u001b[0m\u001b[0;34m(\u001b[0m\u001b[0;34m*\u001b[0m\u001b[0margs\u001b[0m\u001b[0;34m,\u001b[0m \u001b[0;34m**\u001b[0m\u001b[0mkwargs\u001b[0m\u001b[0;34m)\u001b[0m\u001b[0;34m:\u001b[0m\u001b[0;34m\u001b[0m\u001b[0;34m\u001b[0m\u001b[0m\n\u001b[1;32m    205\u001b[0m       \u001b[0;32mtry\u001b[0m\u001b[0;34m:\u001b[0m\u001b[0;34m\u001b[0m\u001b[0;34m\u001b[0m\u001b[0m\n\u001b[0;32m--> 206\u001b[0;31m         \u001b[0;32mreturn\u001b[0m \u001b[0mfunc\u001b[0m\u001b[0;34m(\u001b[0m\u001b[0;34m*\u001b[0m\u001b[0margs\u001b[0m\u001b[0;34m,\u001b[0m \u001b[0;34m**\u001b[0m\u001b[0mkwargs\u001b[0m\u001b[0;34m)\u001b[0m\u001b[0;34m\u001b[0m\u001b[0;34m\u001b[0m\u001b[0m\n\u001b[0m\u001b[1;32m    207\u001b[0m       \u001b[0;32mexcept\u001b[0m \u001b[0mConverterError\u001b[0m \u001b[0;32mas\u001b[0m \u001b[0mconverter_error\u001b[0m\u001b[0;34m:\u001b[0m\u001b[0;34m\u001b[0m\u001b[0;34m\u001b[0m\u001b[0m\n\u001b[1;32m    208\u001b[0m         \u001b[0;32mif\u001b[0m \u001b[0mconverter_error\u001b[0m\u001b[0;34m.\u001b[0m\u001b[0merrors\u001b[0m\u001b[0;34m:\u001b[0m\u001b[0;34m\u001b[0m\u001b[0;34m\u001b[0m\u001b[0m\n",
            "\u001b[0;32m/usr/local/lib/python3.9/dist-packages/tensorflow/lite/python/optimize/calibrator.py\u001b[0m in \u001b[0;36mcalibrate\u001b[0;34m(self, dataset_gen)\u001b[0m\n\u001b[1;32m    222\u001b[0m       \u001b[0mdataset_gen\u001b[0m\u001b[0;34m:\u001b[0m \u001b[0mA\u001b[0m \u001b[0mgenerator\u001b[0m \u001b[0mthat\u001b[0m \u001b[0mgenerates\u001b[0m \u001b[0mcalibration\u001b[0m \u001b[0msamples\u001b[0m\u001b[0;34m.\u001b[0m\u001b[0;34m\u001b[0m\u001b[0;34m\u001b[0m\u001b[0m\n\u001b[1;32m    223\u001b[0m     \"\"\"\n\u001b[0;32m--> 224\u001b[0;31m     \u001b[0mself\u001b[0m\u001b[0;34m.\u001b[0m\u001b[0m_feed_tensors\u001b[0m\u001b[0;34m(\u001b[0m\u001b[0mdataset_gen\u001b[0m\u001b[0;34m,\u001b[0m \u001b[0mresize_input\u001b[0m\u001b[0;34m=\u001b[0m\u001b[0;32mTrue\u001b[0m\u001b[0;34m)\u001b[0m\u001b[0;34m\u001b[0m\u001b[0;34m\u001b[0m\u001b[0m\n\u001b[0m\u001b[1;32m    225\u001b[0m     \u001b[0;32mreturn\u001b[0m \u001b[0mself\u001b[0m\u001b[0;34m.\u001b[0m\u001b[0m_calibrator\u001b[0m\u001b[0;34m.\u001b[0m\u001b[0mCalibrate\u001b[0m\u001b[0;34m(\u001b[0m\u001b[0;34m)\u001b[0m\u001b[0;34m\u001b[0m\u001b[0;34m\u001b[0m\u001b[0m\n",
            "\u001b[0;32m/usr/local/lib/python3.9/dist-packages/tensorflow/lite/python/optimize/calibrator.py\u001b[0m in \u001b[0;36m_feed_tensors\u001b[0;34m(self, dataset_gen, resize_input)\u001b[0m\n\u001b[1;32m    136\u001b[0m         \u001b[0mself\u001b[0m\u001b[0;34m.\u001b[0m\u001b[0m_calibrator\u001b[0m\u001b[0;34m.\u001b[0m\u001b[0mFeedTensor\u001b[0m\u001b[0;34m(\u001b[0m\u001b[0minput_array\u001b[0m\u001b[0;34m,\u001b[0m \u001b[0msignature_key\u001b[0m\u001b[0;34m)\u001b[0m\u001b[0;34m\u001b[0m\u001b[0;34m\u001b[0m\u001b[0m\n\u001b[1;32m    137\u001b[0m       \u001b[0;32melse\u001b[0m\u001b[0;34m:\u001b[0m\u001b[0;34m\u001b[0m\u001b[0;34m\u001b[0m\u001b[0m\n\u001b[0;32m--> 138\u001b[0;31m         \u001b[0mself\u001b[0m\u001b[0;34m.\u001b[0m\u001b[0m_calibrator\u001b[0m\u001b[0;34m.\u001b[0m\u001b[0mFeedTensor\u001b[0m\u001b[0;34m(\u001b[0m\u001b[0minput_array\u001b[0m\u001b[0;34m)\u001b[0m\u001b[0;34m\u001b[0m\u001b[0;34m\u001b[0m\u001b[0m\n\u001b[0m\u001b[1;32m    139\u001b[0m \u001b[0;34m\u001b[0m\u001b[0m\n\u001b[1;32m    140\u001b[0m   @convert_phase(Component.OPTIMIZE_TFLITE_MODEL,\n",
            "\u001b[0;31mKeyboardInterrupt\u001b[0m: "
          ]
        }
      ],
      "source": [
        "model.export(export_dir='/content/drive/MyDrive/edix')"
      ]
    },
    {
      "cell_type": "markdown",
      "metadata": {
        "id": "jvq-fDfYCD9D"
      },
      "source": [
        "**Step 6.  Evaluate the TensorFlow Lite model.**\n",
        "\n",
        "Several factors can affect the model accuracy when exporting to TFLite:\n",
        "* [Quantization](https://www.tensorflow.org/lite/performance/model_optimization) helps shrinking the model size by 4 times at the expense of some accuracy drop.\n",
        "* The original TensorFlow model uses per-class [non-max supression (NMS)](https://www.coursera.org/lecture/convolutional-neural-networks/non-max-suppression-dvrjH) for post-processing, while the TFLite model uses global NMS that's much faster but less accurate.\n",
        "Keras outputs maximum 100 detections while tflite outputs maximum 25 detections.\n",
        "\n",
        "Therefore you'll have to evaluate the exported TFLite model and compare its accuracy with the original TensorFlow model."
      ]
    },
    {
      "cell_type": "code",
      "execution_count": null,
      "metadata": {
        "colab": {
          "base_uri": "https://localhost:8080/"
        },
        "id": "XH0JaqbNCJ_I",
        "outputId": "9e2e08f0-f3be-4119-80b8-d1a5061f59b6"
      },
      "outputs": [
        {
          "output_type": "stream",
          "name": "stdout",
          "text": [
            "54/54 [==============================] - 155s 3s/step\n",
            "\n"
          ]
        },
        {
          "output_type": "execute_result",
          "data": {
            "text/plain": [
              "{'AP': 0.59660393,\n",
              " 'AP50': 0.9714395,\n",
              " 'AP75': 0.5853033,\n",
              " 'APs': -1.0,\n",
              " 'APm': -1.0,\n",
              " 'APl': 0.59685916,\n",
              " 'ARmax1': 0.5685256,\n",
              " 'ARmax10': 0.6665385,\n",
              " 'ARmax100': 0.6665385,\n",
              " 'ARs': -1.0,\n",
              " 'ARm': -1.0,\n",
              " 'ARl': 0.6665385,\n",
              " 'AP_/bottle': 0.5757426,\n",
              " 'AP_/plastic': 0.69550127,\n",
              " 'AP_/bag': 0.50515634,\n",
              " 'AP_/paper': 0.6100154}"
            ]
          },
          "metadata": {},
          "execution_count": 12
        }
      ],
      "source": [
        "model.evaluate_tflite('/content/model.tflite', test_ds)"
      ]
    },
    {
      "cell_type": "markdown",
      "metadata": {
        "id": "rNxsJMgn-UuT"
      },
      "source": [
        "## (Optional) Test the TFLite model on your image\n",
        "\n",
        "You can test the trained TFLite model using images from the internet.\n",
        "* Replace the `INPUT_IMAGE_URL` below with your desired input image.\n",
        "* Adjust the `DETECTION_THRESHOLD` to change the sensitivity of the model. A lower threshold means the model will pickup more objects but there will also be more false detection. Meanwhile, a higher threshold means the model will only pickup objects that it has confidently detected.\n",
        "\n",
        "Although it requires some of boilerplate code to run the model in Python at this moment, integrating the model into a mobile app only requires a few lines of code.\n"
      ]
    },
    {
      "cell_type": "code",
      "execution_count": null,
      "metadata": {
        "id": "CZgrd7Xo-dzQ"
      },
      "outputs": [],
      "source": [
        "import tensorflow as tf\n",
        "import numpy as np"
      ]
    },
    {
      "cell_type": "code",
      "execution_count": null,
      "metadata": {
        "colab": {
          "base_uri": "https://localhost:8080/"
        },
        "id": "VU2FbmBT417D",
        "outputId": "a49c4736-4d58-4486-c0d5-a63ca4c3f6cf"
      },
      "outputs": [
        {
          "output_type": "stream",
          "name": "stdout",
          "text": [
            "Looking in indexes: https://pypi.org/simple, https://us-python.pkg.dev/colab-wheels/public/simple/\n",
            "Requirement already satisfied: opencv-python in /usr/local/lib/python3.9/dist-packages (4.7.0.72)\n",
            "Requirement already satisfied: numpy>=1.17.0 in /usr/local/lib/python3.9/dist-packages (from opencv-python) (1.22.4)\n"
          ]
        }
      ],
      "source": [
        "pip install opencv-python"
      ]
    },
    {
      "cell_type": "code",
      "execution_count": null,
      "metadata": {
        "id": "HT7mtSTA-e3h"
      },
      "outputs": [],
      "source": [
        "#@title Load the trained TFLite model and define some visualization functions\n",
        "\n",
        "import cv2\n",
        "\n",
        "from PIL import Image\n",
        "\n",
        "model_path = '/content/model (3).tflite'\n",
        "\n",
        "# Load the labels into a list\n",
        "classes = ['bottle', 'plastic ','bag','paper']\n",
        "\n",
        "\n",
        "# Define a list of colors for visualization\n",
        "COLORS = np.random.randint(0, 255, size=(len(classes), 3), dtype=np.uint8)\n",
        "\n",
        "def preprocess_image(image_path, input_size):\n",
        "  \"\"\"Preprocess the input image to feed to the TFLite model\"\"\"\n",
        "  img = tf.io.read_file(image_path)\n",
        "  img = tf.io.decode_image(img, channels=3)\n",
        "  img = tf.image.convert_image_dtype(img, tf.uint8)\n",
        "  original_image = img\n",
        "  resized_img = tf.image.resize(img, input_size)\n",
        "  resized_img = resized_img[tf.newaxis, :]\n",
        "  resized_img = tf.cast(resized_img, dtype=tf.uint8)\n",
        "  return resized_img, original_image\n",
        "\n",
        "\n",
        "def detect_objects(interpreter, image, threshold):\n",
        "  \"\"\"Returns a list of detection results, each a dictionary of object info.\"\"\"\n",
        "\n",
        "  signature_fn = interpreter.get_signature_runner()\n",
        "\n",
        "  # Feed the input image to the model\n",
        "  output = signature_fn(images=image)\n",
        "\n",
        "  # Get all outputs from the model\n",
        "  count = int(np.squeeze(output['output_0']))\n",
        "  scores = np.squeeze(output['output_1'])\n",
        "  classes = np.squeeze(output['output_2'])\n",
        "  boxes = np.squeeze(output['output_3'])\n",
        "\n",
        "  results = []\n",
        "  for i in range(count):\n",
        "    if scores[i] >= threshold:\n",
        "      result = {\n",
        "        'bounding_box': boxes[i],\n",
        "        'class_id': classes[i],\n",
        "        'score': scores[i]\n",
        "      }\n",
        "      results.append(result)\n",
        "  return results\n",
        "\n",
        "\n",
        "def run_odt_and_draw_results(image_path, interpreter, threshold=0.5):\n",
        "  \"\"\"Run object detection on the input image and draw the detection results\"\"\"\n",
        "  # Load the input shape required by the model\n",
        "  _, input_height, input_width, _ = interpreter.get_input_details()[0]['shape']\n",
        "\n",
        "  # Load the input image and preprocess it\n",
        "  preprocessed_image, original_image = preprocess_image(\n",
        "      image_path,\n",
        "      (input_height, input_width)\n",
        "    )\n",
        "\n",
        "  # Run object detection on the input image\n",
        "  results = detect_objects(interpreter, preprocessed_image, threshold=threshold)\n",
        "\n",
        "  # Plot the detection results on the input image\n",
        "  original_image_np = original_image.numpy().astype(np.uint8)\n",
        "  for obj in results:\n",
        "    # Convert the object bounding box from relative coordinates to absolute\n",
        "    # coordinates based on the original image resolution\n",
        "    ymin, xmin, ymax, xmax = obj['bounding_box']\n",
        "    xmin = int(xmin * original_image_np.shape[1])\n",
        "    xmax = int(xmax * original_image_np.shape[1])\n",
        "    ymin = int(ymin * original_image_np.shape[0])\n",
        "    ymax = int(ymax * original_image_np.shape[0])\n",
        "\n",
        "    # Find the class index of the current object\n",
        "    class_id = int(obj['class_id'])\n",
        "\n",
        "    # Draw the bounding box and label on the image\n",
        "    color = [int(c) for c in COLORS[class_id]]\n",
        "    cv2.rectangle(original_image_np, (xmin, ymin), (xmax, ymax), color, 2)\n",
        "    # Make adjustments to make the label visible for all objects\n",
        "    y = ymin - 15 if ymin - 15 > 15 else ymin + 15\n",
        "    label = \"{}: {:.0f}%\".format(classes[class_id], obj['score'] * 100)\n",
        "    cv2.putText(original_image_np, label, (xmin, y),\n",
        "        cv2.FONT_HERSHEY_SIMPLEX, 0.5, color, 2)\n",
        "\n",
        "  # Return the final image\n",
        "  original_uint8 = original_image_np.astype(np.uint8)\n",
        "  return original_uint8"
      ]
    },
    {
      "cell_type": "code",
      "execution_count": null,
      "metadata": {
        "colab": {
          "base_uri": "https://localhost:8080/",
          "height": 517
        },
        "id": "GNPtqp_v-tko",
        "outputId": "f66f3c95-d8e6-4181-e255-7fbeae4f4d10"
      },
      "outputs": [
        {
          "output_type": "execute_result",
          "data": {
            "text/plain": [
              "<PIL.Image.Image image mode=RGB size=500x500 at 0x7F4F2CF7BFA0>"
            ],
            "image/png": "[encoded data removed]"
          },
          "metadata": {},
          "execution_count": 4
        }
      ],
      "source": [
        "#@title Run object detection and show the detection results\n",
        "\n",
        "INPUT_IMAGE_URL = \"\" #@param {type:\"string\"}\n",
        "DETECTION_THRESHOLD = 0.3 #@param {type:\"number\"}\n",
        "\n",
        "TEMP_FILE = '/tmp/image.png'\n",
        "\n",
        "!wget -q -O $TEMP_FILE $INPUT_IMAGE_URL\n",
        "im = Image.open(TEMP_FILE)\n",
        "im.thumbnail((512, 512), Image.ANTIALIAS)\n",
        "im.save(TEMP_FILE, 'PNG')\n",
        "\n",
        "# Load the TFLite model\n",
        "interpreter = tf.lite.Interpreter(model_path=model_path)\n",
        "interpreter.allocate_tensors()\n",
        "\n",
        "# Run inference and draw detection result on the local copy of the original file\n",
        "detection_result_image = run_odt_and_draw_results(\n",
        "    TEMP_FILE,\n",
        "    interpreter,\n",
        "    threshold=DETECTION_THRESHOLD\n",
        ")\n",
        "\n",
        "# Show the detection result\n",
        "Image.fromarray(detection_result_image)"
      ]
    }
  ],
  "metadata": {
    "accelerator": "GPU",
    "colab": {
      "provenance": []
    },
    "kernelspec": {
      "display_name": "Python 3",
      "name": "python3"
    },
    "gpuClass": "standard"
  },
  "nbformat": 4,
  "nbformat_minor": 0
}